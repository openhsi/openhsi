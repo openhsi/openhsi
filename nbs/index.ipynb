{
 "cells": [
  {
   "cell_type": "markdown",
   "metadata": {},
   "source": [
    "# Getting Started\n",
    "\n",
    "> Library to calibrate, capture and process data cubes for the open source\n",
    "  DIY hyperspectral camera."
   ]
  },
  {
   "cell_type": "markdown",
   "metadata": {},
   "source": [
    "# Welcome to the Open Source DIY Hyperspectral Imager Library"
   ]
  },
  {
   "cell_type": "markdown",
   "metadata": {},
   "source": [
    "![](https://github.com/openhsi/openhsi/actions/workflows/main.yml/badge.svg)"
   ]
  },
  {
   "cell_type": "markdown",
   "metadata": {},
   "source": [
    "This Python library is licensed under the [Apache v2 License](https://www.apache.org/licenses/LICENSE-2.0). The documentation is licensed under a <a rel=\"license\" href=\"http://creativecommons.org/licenses/by/3.0/au/\">Creative Commons Attribution 3.0 Australia License</a>.\n",
    "\n",
    "Documentation can be found here: [https://openhsi.github.io/openhsi/](https://openhsi.github.io/openhsi/)."
   ]
  },
  {
   "cell_type": "markdown",
   "metadata": {},
   "source": [
    "## Install"
   ]
  },
  {
   "cell_type": "markdown",
   "metadata": {},
   "source": [
    "`pip install openhsi` \n",
    "\n",
    "or\n",
    "\n",
    "`conda install -c conda-forge openhsi`\n",
    "\n",
    "The source code can be found on [GitHub](https://github.com/openhsi/openhsi)."
   ]
  },
  {
   "cell_type": "markdown",
   "metadata": {},
   "source": [
    "## Requirements\n",
    "\n",
    "- Python 3.7+ \n",
    "\n",
    "Depending on your camera sensor, install:\n",
    "- Ximea SDK (See https://www.ximea.com/support/wiki/apis/Python)\n",
    "- FLIR Spinnaker SDK with the python package (See https://www.flir.com/products/spinnaker-sdk/)\n",
    "- LUCID SDK (See https://thinklucid.com/downloads-hub/)\n",
    "\n",
    ":::{.callout-note}\n",
    "\n",
    "A descriptive installation guide on Linux platforms can be found at https://openhsi.github.io/openhsi/tutorial_installing_linux.html\n",
    "\n",
    ":::\n"
   ]
  },
  {
   "cell_type": "markdown",
   "metadata": {},
   "source": [
    "## Development and Contributions\n",
    "\n",
    "This whole software library, testing suite, documentation website, and PyPI/conda package was developed in Jupyter Notebooks using [nbdev](https://nbdev.fast.ai/). \n",
    "\n",
    ":::{.callout-note}\n",
    "\n",
    "We have moved to `nbdev2` which uses Quarto to generate this documentation site.\n",
    "\n",
    ":::\n",
    "\n",
    ":::{.callout-important}\n",
    "\n",
    "This library is under active development and new features are still being added.\n",
    "\n",
    ":::"
   ]
  },
  {
   "cell_type": "markdown",
   "metadata": {},
   "source": [
    "## Citation\n",
    "\n",
    "If OpenHSI has been useful for your research, please acknowledge the project in your academic publication. The OpenHSI paper has been published in MDPI Remote Sensing and can be accessed at [https://www.mdpi.com/2072-4292/14/9/2244](https://www.mdpi.com/2072-4292/14/9/2244).\n",
    "\n",
    "```\n",
    "@article{mao2022openhsi,\n",
    "  title={OpenHSI: A Complete Open-Source Hyperspectral Imaging Solution for Everyone},\n",
    "  author={Mao, Yiwei and Betters, Christopher H and Evans, Bradley and Artlett, Christopher P and Leon-Saval, Sergio G and Garske, Samuel and Cairns, Iver H and Cocks, Terry and Winter, Robert and Dell, Timothy},\n",
    "  journal={Remote Sensing},\n",
    "  volume={14},\n",
    "  number={9},\n",
    "  pages={2244},\n",
    "  year={2022},\n",
    "  publisher={MDPI}\n",
    "}\n",
    "```\n"
   ]
  },
  {
   "cell_type": "markdown",
   "metadata": {},
   "source": [
    "## How to use\n",
    "\n",
    ":::{.callout-tip}\n",
    "\n",
    "For more detailed instructions, please see the tutorials in the sidebar of the documentation site.\n",
    "\n",
    ":::"
   ]
  },
  {
   "cell_type": "markdown",
   "metadata": {},
   "source": [
    "### Taking a single hyperspectral datacube\n",
    "\n",
    "The example shown here uses a *simulated* camera for testing purposes. Replace `SimulatedCamera` with the appropriate Python class for your own camera to work with real hardware. For example, use `LucidCamera` imported from `openhsi.cameras` inplace of `SimulatedCamera`. "
   ]
  },
  {
   "cell_type": "markdown",
   "metadata": {},
   "source": [
    "```python\n",
    "from openhsi.capture import *\n",
    "\n",
    "with SimulatedCamera(img_path=\"assets/rocky_beach.png\", n_lines=1024, processing_lvl = 3,\n",
    "                    json_path=\"assets/cam_settings.json\",pkl_path=\"assets/cam_calibration.pkl\") as cam:\n",
    "    cam.collect()\n",
    "    fig = cam.show(plot_lib=\"matplotlib\",robust=True)\n",
    "```"
   ]
  },
  {
   "cell_type": "markdown",
   "metadata": {},
   "source": [
    "The RGB representation is made using selected bands for red, green, and blue. These bands can be customised along with options for displaying the image without outliers affecting the colour scale/contrast. The example flag used here is `robust` which takes the 2-98% percentile. There is also the `hist_eq` flag which performs histogram equalisation. If none of these flags are set, then the colour scale uses the min and max value. "
   ]
  },
  {
   "cell_type": "markdown",
   "metadata": {},
   "source": [
    "```python\n",
    "fig.opts(fig_inches=7,title=\"simulated hyperspectral datacube\")\n",
    "```"
   ]
  },
  {
   "cell_type": "markdown",
   "metadata": {},
   "source": [
    ":::{.callout-tip}\n",
    "\n",
    "For more information on how to use this library, check out our [Quick Start Guide](https://openhsi.github.io/openhsi/tutorial_camera.html).\n",
    "\n",
    ":::"
   ]
  },
  {
   "cell_type": "markdown",
   "metadata": {},
   "source": [
    "## Hardware cameras\n",
    "\n",
    "![](assets/openhsi_cam.png \"The hardware consists of a collimator tube with a slit (1) mounted in a 3D printed housing (2). A diffraction grating (3) is used to split the incoming light into its component colours to be detected on the camera sensor (4).\")\n",
    "\n",
    "The hardware consists of a collimator tube with a slit (1) mounted in a 3D printed housing (2). A diffraction grating (3) is used to split the incoming light into its component colours to be detected on the camera sensor (4).  \n",
    "\n",
    "We have the following implementations in [`cameras` module](https://openhsi.github.io/openhsi/cameras.html):\n",
    "- `WebCamera`\n",
    "- `XimeaCamera`\n",
    "- `LucidCamera`\n",
    "- `FlirCamera`\n",
    "\n",
    "These all have the same interface so in principle, these OpenHSI cameras can be used interchangeably as long as you have the right calibration files. "
   ]
  },
  {
   "cell_type": "markdown",
   "metadata": {},
   "source": [
    "## Frequently Asked Questions\n",
    "\n",
    "**I'm having trouble with the software install. Do you have a guide?**\n",
    "\n",
    "Check out our [Linux Installation Guide](https://openhsi.github.io/openhsi/tutorial_installing_linux.html)\n",
    "and [Windows Installation Guide](https://openhsi.github.io/openhsi/tutorial_installing_windows.html).\n",
    "\n",
    "**Where can I get a quick overview of what `openhsi` can do?**\n",
    "\n",
    "Our [Quick Start Guide](https://openhsi.github.io/openhsi/tutorial_camera.html) is the best place to start. The sidebar also includes documentation for each software module in more detail. \n",
    "\n",
    "\n",
    "**The OpenHSI camera is a pushbroom sensor and requires motion to scan a 2D space. What kind of motion should I apply?**\n",
    "\n",
    "Any motion that allows you to scan a 2D space is okay. This can be from translating the camera is space or from applying a rotation. (or both translation and rotation)\n",
    "The developers of `openhsi` has flown the OpenHSI camera on a drone which sweeps across an area of interest in multiple overlapping swaths. You can fly this camera on other platforms, vehicles, etc... \n",
    "\n",
    "**How fast should I move the camera?**\n",
    "\n",
    "It'll depend on what your case is. This answer assumes you want square pixels.\n",
    "Assuming the cross-track (scan line) spatial resolution is 0.42 mrad in the field of view, and your altitude is 120 m, the ground sample distance is:\n",
    "\n",
    "GSD $\\approx$ 0.00042 $\\times$ 120 (using the small angle approximation) = 5 cm\n",
    "\n",
    "Assuming your frame rate is 98 FPS at your desired processing level, and you want to get square pixels, you want to be flying at speed\n",
    "\n",
    "$v$ = 98 $\\times$ 0.05 = 4.9 m/s\n",
    "\n",
    "If you fly faster/slower than this, your datacube will appear to be stretched spatially."
   ]
  },
  {
   "cell_type": "code",
   "execution_count": null,
   "metadata": {},
   "outputs": [],
   "source": []
  }
 ],
 "metadata": {
  "kernelspec": {
   "display_name": "Python 3 (ipykernel)",
   "language": "python",
   "name": "python3"
  }
 },
 "nbformat": 4,
 "nbformat_minor": 4
}
