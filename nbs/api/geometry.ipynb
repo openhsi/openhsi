{
 "cells": [
  {
   "cell_type": "markdown",
   "metadata": {},
   "source": [
    "# geometry\n",
    "\n",
    "> module for direct georeferencing"
   ]
  },
  {
   "cell_type": "raw",
   "metadata": {},
   "source": [
    "---\n",
    "skip_showdoc: true\n",
    "skip_exec: true\n",
    "---"
   ]
  },
  {
   "cell_type": "code",
   "execution_count": null,
   "metadata": {},
   "outputs": [],
   "source": [
    "#| default_exp geometry"
   ]
  },
  {
   "cell_type": "markdown",
   "metadata": {},
   "source": [
    ":::{.callout-tip}\n",
    "\n",
    "This module can be imported using `from openhsi.geometry import *`\n",
    "\n",
    ":::\n",
    "\n",
    "\n",
    ":::{.callout-warning}\n",
    "\n",
    "This is still under development. Stay tuned\n",
    "\n",
    ":::\n",
    "\n"
   ]
  },
  {
   "cell_type": "code",
   "execution_count": null,
   "metadata": {},
   "outputs": [],
   "source": [
    "#| hide\n",
    "\n",
    "# documentation extraction for class methods\n",
    "from nbdev.showdoc import *\n",
    "\n",
    "# unit tests using test_eq(...)\n",
    "from fastcore.test import *\n",
    "\n",
    "# monkey patching class methods using @patch\n",
    "from fastcore.foundation import *\n",
    "from fastcore.foundation import patch\n",
    "\n",
    "# imitation of Julia's multiple dispatch using @typedispatch\n",
    "from fastcore.dispatch import typedispatch\n",
    "\n",
    "# bring forth **kwargs from an inherited class for documentation\n",
    "from fastcore.meta import delegates"
   ]
  },
  {
   "cell_type": "code",
   "execution_count": null,
   "metadata": {},
   "outputs": [],
   "source": [
    "#| export \n",
    "\n",
    "from fastcore.foundation import patch\n",
    "from fastcore.meta import delegates\n",
    "import numpy as np\n",
    "import ctypes\n",
    "import matplotlib.pyplot as plt\n",
    "import warnings\n",
    "from tqdm import tqdm\n",
    "from numpy.linalg import norm\n",
    "from functools import reduce\n",
    "import psutil"
   ]
  },
  {
   "cell_type": "code",
   "execution_count": null,
   "metadata": {},
   "outputs": [],
   "source": [
    "#| export\n",
    "\n",
    "from openhsi.data import *\n",
    "from openhsi.capture import ProcessDatacube"
   ]
  },
  {
   "cell_type": "code",
   "execution_count": null,
   "metadata": {},
   "outputs": [
    {
     "name": "stdout",
     "output_type": "stream",
     "text": [
      "/Users/eway/Desktop/openhsi\n"
     ]
    }
   ],
   "source": [
    "#| hide\n",
    "\n",
    "#import os\n",
    "#os.chdir('../../')\n",
    "#os.getcwd()"
   ]
  },
  {
   "cell_type": "code",
   "execution_count": null,
   "metadata": {},
   "outputs": [],
   "source": [
    "#| export\n",
    "\n",
    "class GeorectifyDatacube(ProcessDatacube):\n",
    "    \"\"\"Georectifify datacubes collected using the OpenHSI system.\"\"\"\n",
    "    def __init__(self, fname:str,   # path to a datacube\n",
    "                 DEM_path:str=None, # path to DEM file\n",
    "                 warn_mem_use:bool=True, # Give a warning if trying to allocate too much memory (> 80% of available RAM)\n",
    "                ):\n",
    "        \"\"\"Load the elevation model at `DEM_path`. \"\"\"\n",
    "        self.fname = fname\n",
    "        self.buff = DataCube()\n",
    "        self.buff.load_nc(fname)\n",
    "        if hasattr(self.buff,\"ds_temperatures\"):\n",
    "            self.get_temp = lambda: -999 # this function needs to exist to create temperature buffer\n",
    "\n",
    "        self.n_lines = self.buff.dc.data.shape[1]\n",
    "        self.proc_lvl = -1\n",
    "        self.timestamps = DateTimeBuffer(self.n_lines)\n",
    "        \n",
    "        if callable(getattr(self,\"get_temp\",None)):\n",
    "            self.cam_temperatures = CircArrayBuffer(size=(self.n_lines,),dtype=np.float32)\n",
    "        \n",
    "        # calculate output datacube shape for preallocation!!!\n",
    "        # must match cross-track, along-track, wavelength coordinates\n",
    "        # will parse each along-track line and save the corresponding cross-track, wavelength 2D array\n",
    "        self.dc_shape = (self.buff.dc.data.shape[0],self.n_lines,self.buff.dc.data.shape[2])\n",
    "        mem_sz = 4*reduce(lambda x,y: x*y, self.dc_shape)/2**20 # MB\n",
    "        mem_thresh = 0.8*psutil.virtual_memory().available/2**20 # 80% of available memory in MB\n",
    "        if warn_mem_use and mem_sz > mem_thresh and input(f\"{mem_sz:.02f} MB of RAM will be allocated. You have {mem_thresh/.8:.2f} MB available. Continue? [y/n]\") != \"y\":\n",
    "            raise RuntimeError(f\"\"\"Datacube memory allocation ({mem_sz:.02f} MB) exceeded >80% available RAM ({mem_thresh/.8:.2f} MB).\n",
    "            Halted by user (did not receive `y` at prompt).\n",
    "            To proceed, you can let `warn_mem_use=False`, decrease `n_lines`, use a `processing_lvl`>=2\n",
    "            that includes binning, or continue anyway by entering `y` at the prompt.\"\"\")\n",
    "        if self.dc_shape[0] > 1: print(f\"Allocated {mem_sz:.02f} MB of RAM. There was {mem_thresh/.8:.2f} MB available.\")\n",
    "        self.dc = CircArrayBuffer(size=self.dc_shape, axis=1, dtype=np.float32)\n",
    "        \n",
    "        if DEM_path: self.DEM = 1\n",
    "        "
   ]
  },
  {
   "cell_type": "code",
   "execution_count": null,
   "metadata": {},
   "outputs": [
    {
     "name": "stdout",
     "output_type": "stream",
     "text": [
      "Allocated 572.06 MB of RAM for the load buffer. There was 5107.05 MB available.\n",
      "Allocated 572.06 MB of RAM. There was 4560.30 MB available.\n",
      "identity applied\n"
     ]
    },
    {
     "data": {
      "text/plain": [
       "<matplotlib.image.AxesImage>"
      ]
     },
     "execution_count": null,
     "metadata": {},
     "output_type": "execute_result"
    },
    {
     "data": {
      "image/png": "[encoded data removed]",
      "text/plain": [
       "<Figure size 432x288 with 1 Axes>"
      ]
     },
     "metadata": {
      "needs_background": "light"
     },
     "output_type": "display_data"
    }
   ],
   "source": [
    "#| external\n",
    "#| eval: false\n",
    "\n",
    "proced_dc = GeorectifyDatacube(fname = \"../may_trial_dataset_26th/2021_05_26-03_26_26_ELC.nc\", \n",
    "                              DEM_path = None)\n",
    "\n",
    "# add functions to a pipeline\n",
    "identity = lambda x: x\n",
    "proced_dc.load_next_tfms([identity])\n",
    "\n",
    "# run the first line through the processing pipeline and put into output datacube buffer\n",
    "proced_dc.put(proced_dc.get_img())\n",
    "plt.imshow(proced_dc.dc.data[:,0,:])"
   ]
  },
  {
   "cell_type": "code",
   "execution_count": null,
   "metadata": {},
   "outputs": [],
   "source": []
  }
 ],
 "metadata": {
  "kernelspec": {
   "display_name": "Python 3 (ipykernel)",
   "language": "python",
   "name": "python3"
  }
 },
 "nbformat": 4,
 "nbformat_minor": 4
}
