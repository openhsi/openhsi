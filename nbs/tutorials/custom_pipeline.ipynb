{
 "cells": [
  {
   "cell_type": "markdown",
   "metadata": {},
   "source": [
    "# Customising the Processing Pipeline\n",
    "\n",
    "> Making the real-time, and post-processing pipeline work for you. Going beyond the predefined `processing_lvl` recipies.\n"
   ]
  },
  {
   "cell_type": "code",
   "execution_count": null,
   "metadata": {},
   "outputs": [],
   "source": []
  },
  {
   "cell_type": "markdown",
   "metadata": {},
   "source": [
    ":::{.callout-warning}\n",
    "\n",
    "This tutorial is a work in progress.\n",
    "\n",
    ":::\n",
    "\n",
    "You can customise the level of processing you want in real-time. The API for doing this in post-processing is exactly the same and is based on `CameraProperties.load_next_tfms` which every class dealing with datacubes will inherit. \n",
    "\n",
    ":::{.callout-tip}\n",
    "\n",
    "If your processing pipeline works on raw datacubes in post-processing, you can directly use in real-time too. Keep in mind that, depending on the CPU load, the frame rate may decrease.\n",
    "\n",
    ":::\n",
    "\n",
    "There are prebuilt recipies for setting the real-time processing pipeline (and for post-processing raw datacubes). \n",
    "You may want to customise this, for example, to implement direct georeferencing. "
   ]
  },
  {
   "cell_type": "markdown",
   "metadata": {},
   "source": [
    "## The Pipeline\n",
    "\n",
    "Each callable within the pipeline is expected to ingest an array and output an array. The final array from the pipeline is then stored in a `DataCube` buffer as the along-axis index is incremented. \n",
    "\n"
   ]
  },
  {
   "cell_type": "markdown",
   "metadata": {},
   "source": [
    "```python\n",
    "from openhsi.capture import ProcessDatacube\n",
    "\n",
    "dc2process = ProcessDatacube(fname = \"path_to_datacube_file.nc\", processing_lvl=4,\n",
    "                             json_path=json_path, pkl_path=pkl_path)\n",
    "dc2process.load_next_tfms([proced_dc.dn2rad])\n",
    "dc2process.collect()\n",
    "```"
   ]
  },
  {
   "cell_type": "code",
   "execution_count": null,
   "metadata": {},
   "outputs": [],
   "source": []
  }
 ],
 "metadata": {
  "kernelspec": {
   "display_name": "Python 3 (ipykernel)",
   "language": "python",
   "name": "python3"
  }
 },
 "nbformat": 4,
 "nbformat_minor": 4
}
