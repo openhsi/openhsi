{
 "cells": [
  {
   "cell_type": "markdown",
   "id": "b07439eb",
   "metadata": {},
   "source": [
    "# Build Instructions\n",
    "\n",
    "> Make your own OpenHSI hyperspectral camera! \n"
   ]
  },
  {
   "cell_type": "markdown",
   "id": "7cf48dc6",
   "metadata": {},
   "source": [
    ":::{.callout-warning}\n",
    "\n",
    "This tutorial is a work in progress.\n",
    "\n",
    ":::"
   ]
  },
  {
   "cell_type": "markdown",
   "id": "849d8562",
   "metadata": {},
   "source": [
    "The performance of the OpenHSI camera is characterised in our paper:\n",
    "[https://www.mdpi.com/2072-4292/14/9/2244](https://www.mdpi.com/2072-4292/14/9/2244).\n",
    "\n",
    "| Parameter | Details |\n",
    "|---|---|\n",
    "| Dimensions  | 116 mm $\\times$ 46 mm $\\times$ 35 mm | \n",
    "| Mass | 119 g | \n",
    "| Bands | 108 (4 nm bands; can be reconfigured) | \n",
    "| Working F/# | 4 | \n",
    "| Ground sample distance | 5 cm at 120 m altitude (0.42 mrad) | \n",
    "| Spectral range | 400--830 nm (with some vignetting) | \n",
    "| Field of view | 10.6 degrees | \n",
    "    \n",
    "\n",
    "# 3D Optics Housing\n",
    "\n",
    "All the optics is housed inside an enclosure that can be 3D printed. For best tolerances, you can use SLA. \n",
    "The files can be found in the `mcad` folder at our [repositorty](https://github.com/openhsi/openhsi-models).\n",
    "\n",
    "If you need a lens cover, that can be printed as well. \n",
    ":::{.callout-note}\n",
    "\n",
    "Upload the lens cover file.\n",
    "\n",
    ":::"
   ]
  },
  {
   "cell_type": "markdown",
   "id": "f75d35c8",
   "metadata": {},
   "source": [
    "# Components Needed\n",
    "\n",
    "\n",
    "| Item | Description | Part Number | Supplier |\n",
    "|---|---|---|---|\n",
    "| 1 | Field Lens | #83-107 | Edmund Optics |\n",
    "| 2 | Slit | A-SLIT-3/8-DISC-25 | Lenox Laser | \n",
    "| 3 | Collimator Lens 1 | \\#63-519 | Edmund Optics | \n",
    "| 4 | Collimator Lens 2 | \\#63-720 | Edmund Optics | \n",
    "| 5 | Grating | #49-580 | Edmund Optics | \n",
    "| 6 | Camera Lens | \\#56-776 | Edmund Optics | \n",
    "| 7 | XIMEA Detector | MX031MG-SY |  | \n",
    "| 8 | 3D-Printed Enclosure |  |  |\n",
    "\n"
   ]
  },
  {
   "cell_type": "markdown",
   "id": "c19d4c84",
   "metadata": {},
   "source": [
    "There are some common things like screws, fasteners, and spacers that you'll need to assemble it all. The parts are listed as follows:\n",
    "\n",
    "| Item | Quantity| Description |\n",
    "|---|---|---|\n",
    "| grub screw | 1 | fixes the telescope lens in place | \n",
    "| Raspberry Pi heat sinks | 1 set | helps cools the camera |"
   ]
  },
  {
   "cell_type": "markdown",
   "id": "26d16dbc",
   "metadata": {},
   "source": [
    "# Alignment\n",
    "\n",
    "We have a 3D print model to help alignment. "
   ]
  },
  {
   "cell_type": "markdown",
   "id": "38c3aa9f",
   "metadata": {},
   "source": [
    "# Focusing\n",
    "\n",
    "Depending on if you want to work in a lab setting or outdoors, you will need to refocus the camera to the right working distance. To do this, angle the swath so it crosses something with high spatial frequency (e.g. a tall pole in the distance, a checkerboard). \n",
    "\n",
    "The telescope has a locking brace that can help. \n"
   ]
  },
  {
   "cell_type": "markdown",
   "id": "53201b3a",
   "metadata": {},
   "source": [
    "# Calibration\n",
    "\n",
    "For generating the calibration files, follow the tutorial on the sidebar. To calibrate your OpenHSI camera, you will need:\n",
    "\n",
    "| Item | Description | Supplier |\n",
    "|---|---|---|\n",
    "| HgAr source | for wavelength calibration | Ocean Optics  |\n",
    "| Integrating Sphere | for radiometric calibration | LabSphere |\n",
    "\n"
   ]
  },
  {
   "cell_type": "markdown",
   "id": "482950bc",
   "metadata": {},
   "source": [
    "# Direct Georeferencing\n",
    "\n",
    "We have a `sensors` module for interfacing and recording IMU and GPS data concurrently with the camera. "
   ]
  }
 ],
 "metadata": {
  "kernelspec": {
   "display_name": "Python 3 (ipykernel)",
   "language": "python",
   "name": "python3"
  }
 },
 "nbformat": 4,
 "nbformat_minor": 5
}
