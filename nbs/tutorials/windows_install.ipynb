{
 "cells": [
  {
   "cell_type": "markdown",
   "metadata": {},
   "source": [
    "# Windows Install\n",
    "\n",
    "> A tutorial on installing the `openhsi` library and camera SDKs on Windows\n"
   ]
  },
  {
   "cell_type": "code",
   "execution_count": null,
   "metadata": {},
   "outputs": [],
   "source": []
  },
  {
   "cell_type": "markdown",
   "metadata": {},
   "source": [
    ":::{.callout-warning}\n",
    "\n",
    "This tutorial is a work in progress.\n",
    "\n",
    ":::\n",
    "\n",
    "## Requirements\n",
    "- Windows 10 computer"
   ]
  },
  {
   "cell_type": "markdown",
   "metadata": {},
   "source": [
    ":::{.callout-important}\n",
    "\n",
    "Using `openhsi` requires generating large datacubes which take up lots of RAM. It is recommended to use a computer with as much RAM as possible.\n",
    "\n",
    ":::\n",
    "\n",
    ":::{.callout-note}\n",
    "\n",
    "Tutorial assumes you have a working OS on your system.\n",
    "\n",
    ":::\n",
    "\n",
    ":::{.callout-tip}\n",
    "\n",
    "Hyperspectral datacubes are really large so best to save them to an external SSD.\n",
    "\n",
    ":::"
   ]
  },
  {
   "cell_type": "markdown",
   "metadata": {},
   "source": [
    "## 1. Python Environment\n",
    "\n",
    "Windows does not have Python by default, so you will need to setup an enviroment. We recommend Miniforge as  good way to get a working install (that avoid having to build dependaces like Py6S). An alternative is pyenv, if you prfer vanilla cpython.\n",
    "\n",
    ":::{.callout-note}\n",
    "\n",
    "https://pythonspeed.com/articles/conda-vs-pip/ - some notes on conda (miniforge) vs pip (pyenv).\n",
    "\n",
    ":::\n",
    "\n",
    "### Instaling with Miniforge or Miniconda\n",
    "\n",
    "Miniforge is an easy way to get a full working Python install working on windows. \n",
    "\n",
    "To install download and run the following:\n",
    "https://github.com/conda-forge/miniforge/releases/latest/download/Miniforge3-Windows-x86_64.exe\n",
    "\n",
    "See https://github.com/conda-forge/miniforge for more information on miniforge.\n",
    "\n",
    "Once installed you shoudl have a link in your start menu or on your desktop for a \"Miniforge Prompt\". Use tis to get a command line with python.\n",
    "\n",
    "### Install Jupyter Lab\n",
    "All the interactive tools in `openhsi` require Jupyter Notebooks because it uses web tools. \n",
    "To install, follow the steps in https://jupyterlab.readthedocs.io/en/stable/getting_started/installation.html\n",
    "\n",
    "In short, it boils down to\n",
    "```console\n",
    "conda install -c conda-forge jupyterlab\n",
    "```\n",
    "To run jupyterlab, use the below command when in the directory you want to work in. This will start jupyterlab and open a browser window to the workspace.\n",
    "```\n",
    "jupyter lab\n",
    "```\n",
    "\n",
    "You will also need some Jupyter Extensions. Navigate to the Jupyter Extensions tab and search for\n",
    "`jupyterlab-manager`, and `jupyter_bokeh`. \n"
   ]
  },
  {
   "cell_type": "markdown",
   "metadata": {},
   "source": [
    "## 2. Install OpenHSI\n",
    "### via conda\n",
    "Create a new environment and install OpenHSI (including python dependancies and 6SV, except for cameras). You can change python version as required as well.\n",
    "```bash\n",
    "conda create -n openhsi python=3.8 openhsi\n",
    "conda activate openhsi\n",
    "```\n",
    "\n",
    "or using environment.yml in the main repo\n",
    "```bash\n",
    "conda env create -f environment.yml\n",
    "```\n",
    "\n",
    "See CONTIRBUTE file in repo for examples of how to setup development mode if you want to mke chnages to OpenHSI code."
   ]
  },
  {
   "cell_type": "markdown",
   "metadata": {},
   "source": [
    "## 3. Install Camera SDK\n",
    "### Install Lucid Vision Arena SDK (Sydney Photonics/Robonation OpenHSI)\n",
    "\n",
    "The Robonation OpenHSI uses the detector from [Lucid Vision Labs Inc](http://thinklucid.com). Their full SDK is required to use the sensor with the OpenHSI libary. This can be acquired from https://thinklucid.com/downloads-hub/.\n",
    "\n",
    "Run the installer and follow the prompts. We recommend picking delveoper install, so you get AreaView progam, which may be helpful in troublshooting.\n",
    "\n",
    "#### Arena Additional Setup\n",
    "At the end of the innstaller click the option to show the Arena Getting Started Guide, which has some instructons for final setup. (the path to these will be somethink like this: `C:/Program Files/Lucid Vision Labs/Arena SDK/docs/html/arena_sdk_windows.html`)\n",
    "\n",
    "In the instructions you will be shown how setup the LUCID Lightweight Filter Driver for Windows and enable jumbo frames.\n",
    "\n",
    "#### Install Arean Python Library\n",
    "And then install the arena python library (this is the same on a conda based or pip based python env):\n",
    "```bash\n",
    "pip install --no-deps arena_api-<version>-py3-none-any.whl\n",
    "```"
   ]
  },
  {
   "cell_type": "markdown",
   "metadata": {},
   "source": [
    "### Install Spinnaker SDK (FLIR based OpenHSI)\n",
    "Download and install the Spinnaker SDK and python wheel. - https://www.flir.com.au/products/spinnaker-sdk/\n",
    "\n",
    ":::{.callout-tip}\n",
    "\n",
    "On an Intel/Amd, you want amd64/x86_64 version on raspi you want aarch64 or arm64.\n",
    "\n",
    ":::\n",
    "\n",
    "Folow the Spinaker SDK install instructions and then install the python package:\n",
    "\n",
    "```bash\n",
    "pip install --no-deps spinnaker_python-<your needed version>.whl\n",
    "```\n",
    "\n"
   ]
  },
  {
   "cell_type": "markdown",
   "metadata": {},
   "source": [
    "### Install Ximea SDK (Ximea based OpenHSI)\n",
    "Navigate to https://www.ximea.com/support/wiki/apis/Python and click on the Windows installation instructions. \n",
    "This will bring you to the page https://www.ximea.com/support/wiki/apis/Python_inst_win which lists everything you need to install the Ximea API. \n",
    "\n",
    "We recommend using `conda` instead of `pip` when following these instructions for installing packages (when using miniforge).\n"
   ]
  },
  {
   "cell_type": "markdown",
   "metadata": {},
   "source": [
    "## Ready to go!\n",
    "Congratulations, you now have a system that can run your `openhsi`!"
   ]
  },
  {
   "cell_type": "code",
   "execution_count": null,
   "metadata": {},
   "outputs": [],
   "source": []
  }
 ],
 "metadata": {
  "kernelspec": {
   "display_name": "Python 3 (ipykernel)",
   "language": "python",
   "name": "python3"
  }
 },
 "nbformat": 4,
 "nbformat_minor": 4
}
