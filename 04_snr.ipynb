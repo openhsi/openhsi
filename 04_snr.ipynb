{
 "cells": [
  {
   "cell_type": "code",
   "execution_count": null,
   "metadata": {},
   "outputs": [],
   "source": [
    "# default_exp snr"
   ]
  },
  {
   "cell_type": "markdown",
   "metadata": {},
   "source": [
    "# Signal To Noise Ratio for the OpenHSI Camera\n",
    "\n",
    "> Includes an interactive SNR calculator.\n",
    "\n",
    "This module contains a 6SV1.1 Atmospheric Correction class that computes the pixel radiance given some parameters and a servable interactive SNR widget. 6SV is an open souce radiative transfer code that predicts the solar spectrum received by a sensor facing the Earth. Since it is written in Fortran, we use a Python wrapper called Py6S to expose the functionality and that means we are limited to using 6SV1.1 rather than the newer 6SV2.1. \n",
    "\n",
    "## Theory\n",
    "\n",
    "The F number of an optical system is a measure of overall light throughput (the ability to produce contrast at a given resolution) and is given by  \n",
    "$$ F/\\# = \\frac{f}{ \\varnothing _{\\text{EA}}} $$\n",
    "where $f$ is the focal length and $\\varnothing _{\\text{EA}}$ is the effective aperture diameter. \n",
    "\n",
    "Assuming the dominant source of noise is photon shot noise $\\sigma_s=\\sqrt{S}$, the SNR is given by \n",
    "$$ \\text{SNR} \\approx S/\\sigma_s = \\sqrt{\\sigma_s}$$\n",
    "where the signal $$S= \\eta_{QE} N\\Delta t$$ with $\\eta_{QE,\\lambda}$ the quantum efficiency, $N$ the photons per second and $\\Delta t$ the exposure time.\n",
    "\n",
    "The number of photons per second is given by the formula\n",
    "$$\n",
    "N_\\lambda = L_\\lambda \\rho_\\lambda \\eta_{QE} A_d \\Delta\\lambda \\frac{\\lambda}{hc} \\frac{\\pi}{4(F/\\#)^2}\n",
    "$$\n",
    "where $L_\\lambda$ is the solar radiance at Earth's surface given the geolocation and UTC time, $\\rho_\\lambda$ is the surface reflectance, $A_d$ is the detector area, $\\Delta \\lambda$ is the FWHM or bandwidth, and $\\lambda$ is wavelength. \n",
    "\n",
    "Diffraction efficiency and optical efficiency\n",
    "\n"
   ]
  },
  {
   "cell_type": "code",
   "execution_count": null,
   "metadata": {},
   "outputs": [],
   "source": [
    "#hide\n",
    "\n",
    "# documentation extraction for class methods\n",
    "from nbdev.showdoc import *\n",
    "\n",
    "# unit tests using test_eq(...)\n",
    "from fastcore.test import *\n",
    "\n",
    "# monkey patching class methods using @patch\n",
    "from fastcore.foundation import *\n",
    "from fastcore.foundation import patch\n",
    "\n",
    "# imitation of Julia's multiple dispatch using @typedispatch\n",
    "from fastcore.dispatch import typedispatch\n",
    "\n",
    "# bring forth **kwargs from an inherited class for documentation\n",
    "from fastcore.meta import delegates"
   ]
  },
  {
   "cell_type": "code",
   "execution_count": null,
   "metadata": {},
   "outputs": [],
   "source": [
    "#export\n",
    "\n",
    "import numpy as np\n",
    "import matplotlib.pyplot as plt\n",
    "import pandas as pd\n",
    "from datetime import datetime as dt\n",
    "import os\n",
    "\n",
    "import param\n",
    "import panel as pn\n",
    "pn.extension()\n",
    "\n",
    "import holoviews as hv\n",
    "hv.extension('bokeh')\n",
    "\n",
    "from Py6S import *\n"
   ]
  },
  {
   "cell_type": "code",
   "execution_count": null,
   "metadata": {},
   "outputs": [],
   "source": [
    "#export\n",
    "from openhsi.data import *\n",
    "from openhsi.atmos import *"
   ]
  },
  {
   "cell_type": "markdown",
   "metadata": {},
   "source": []
  },
  {
   "cell_type": "code",
   "execution_count": null,
   "metadata": {},
   "outputs": [],
   "source": []
  },
  {
   "cell_type": "code",
   "execution_count": null,
   "metadata": {},
   "outputs": [],
   "source": [
    "%time ref_model = Model6SV(tile_type=1.0,λ_array = np.linspace(350,820,num=30)) \n",
    "#takes about 20 s, 55 s with Teams running, 40 s with Zoom\n",
    "ref_model.show()"
   ]
  },
  {
   "cell_type": "code",
   "execution_count": null,
   "metadata": {},
   "outputs": [],
   "source": [
    "\n",
    "class Widget_SNR(param.Parameterized):\n",
    "    aperture_mm         = param.Number(4, bounds=(1,200),doc=\"aperture (mm)\")\n",
    "    focal_length_mm     = param.Number(16,doc=\"focal length (mm)\")\n",
    "    pixel_length_x_μm   = param.Number(25, bounds=(1,60),doc=\"pixel length x (μm)\")\n",
    "    pixel_length_y_μm   = param.Number(3.45, bounds=(1,60),doc=\"pixel length y (μm)\")\n",
    "    integration_time_ms = param.Number(10, bounds=(5,100), step=1,doc=\"integration time (ms)\")\n",
    "    bandwidth_nm        = param.Number(4, bounds=(0.1,20), step=0.1,doc=\"FWHM bandwidth (nm)\")\n",
    "    QE_model    = param.ObjectSelector(default=\"imx174qe\", doc=\"Camera QE model\", objects =\n",
    "                        [f.split(\".\")[0] for f in os.listdir(\"assets\") if \".csv\" in f])\n",
    "    surface_albedo      = param.Number(0.3, bounds=(0,1.0),doc=\"constant surface albedo reflectance\")\n",
    "    # diffraction efficiency unknown\n",
    "    optical_trans_efficiency = param.Number(0.7, bounds=(0.1,1), step=0.05,doc=\"Optical transmission efficiency\")\n",
    "    #solar_zenith_deg = param.Number(0, bounds=(-60,60),doc=\"solar zenith angle (deg)\")\n",
    "    altitude_km      = param.Number(0.12, bounds=(0,None),doc=\"camera altitude (km)\")\n",
    "    \n",
    "    wavelengths = λ_array#np.arange(0.4, .8, 0.004)\n",
    "    ref_model = ref_model\n",
    "    #ref_model = Model6SV(λ_array=wavelengths)\n",
    "    \n",
    "    @param.depends(\"altitude_km\",watch=True)\n",
    "    def _calc_rad(self):\n",
    "        self.ref_model = Model6SV(alt=self.altitude_km)\n",
    "        \n",
    "    @param.depends(\"aperture_mm\",\"focal_length_mm\",\"pixel_length_x_μm\",\"pixel_length_y_μm\",\n",
    "                   \"integration_time_ms\",\"bandwidth_nm\",\"QE_model\",\"optical_trans_efficiency\",\"surface_albedo\")#,\"solar_zenith_deg\")\n",
    "    def view(self):\n",
    "        \n",
    "        self.f_num = self.focal_length_mm / self.aperture_mm\n",
    "        self.A_d = self.pixel_length_x_μm*1e-6 * self.pixel_length_y_μm*1e-6\n",
    "        \n",
    "        # interpolation to OpenHSI wavelengths and remove NaNs\n",
    "        self.QE = pd.read_csv(f\"assets/{self.QE_model}.csv\",names=[\"wavelength\",\"QE_pct\"], header=None)\n",
    "        self.QE[\"wavelength\"] /= 1000\n",
    "        self.QE.insert(0,\"type\",\"manufacturer\")\n",
    "        self.QE = pd.concat( [ pd.DataFrame({\"type\":\"6SV\",\"wavelength\":self.wavelengths}), self.QE] )\n",
    "        self.QE.set_index(\"wavelength\",inplace=True)\n",
    "        self.QE.interpolate(method=\"cubicspline\",axis=\"index\",limit_direction=\"both\",inplace=True)\n",
    "        self.QE = self.QE[self.QE[\"type\"].str.match(\"6SV\")]\n",
    "        self.QE.drop(\"type\", 1,inplace=True)\n",
    "        \n",
    "        self.N = self.ref_model.photons * self.integration_time_ms*1e-3 * self.A_d * np.pi/(2*self.f_num)**2 * \\\n",
    "                    self.bandwidth_nm*1e-3 * self.QE[\"QE_pct\"].to_numpy()/100 * self.optical_trans_efficiency * \\\n",
    "                    self.surface_albedo #* np.cos(np.deg2rad(self.solar_zenith_deg))\n",
    "        \n",
    "        self.table = hv.Table((self.wavelengths*1e3, np.sqrt(self.N)), 'wavelength (nm)', 'SNR')\n",
    "        return hv.Curve(self.table).opts(tools=[\"hover\"],width=600,height=200,ylim=(0,None))\n",
    "\n",
    "widget = Widget_SNR(name=\"Interactive SNR Widget\")\n",
    "pn.Row(widget.param,widget.view)"
   ]
  },
  {
   "cell_type": "code",
   "execution_count": null,
   "metadata": {},
   "outputs": [],
   "source": []
  },
  {
   "cell_type": "markdown",
   "metadata": {},
   "source": [
    "df1 = pd.read_csv(\"assets/imx174qe.csv\",names=[\"wavelength_nm\",\"QE_pct\"], header=None)\n",
    "df2 = pd.read_csv(\"assets/imx273qe.csv\",names=[\"wavelength_nm\",\"QE_pct\"], header=None)\n",
    "df3 = pd.read_csv(\"assets/cmv2000qe.csv\",names=[\"wavelength_nm\",\"QE_pct\"], header=None)\n",
    "( hv.Curve(df1,label=\"imx174\") * hv.Curve(df2,label=\"imx273\") * hv.Curve(df3,label=\"cmv2000\") ).opts(width=1000)"
   ]
  }
 ],
 "metadata": {
  "kernelspec": {
   "display_name": "Python 3.8.3 64-bit ('3.8.3': pyenv)",
   "language": "python",
   "name": "python38364bit383pyenv4fc1801d817447c6b9c76f7bacd532a1"
  }
 },
 "nbformat": 4,
 "nbformat_minor": 4
}
