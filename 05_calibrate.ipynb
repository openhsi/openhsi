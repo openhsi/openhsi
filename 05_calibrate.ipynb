{
 "cells": [
  {
   "cell_type": "code",
   "execution_count": null,
   "metadata": {},
   "outputs": [],
   "source": [
    "# default_exp calibrate"
   ]
  },
  {
   "cell_type": "markdown",
   "metadata": {},
   "source": [
    "# Calibration Procedure\n",
    "\n",
    "> summary\n",
    "\n",
    "Every OpenHSI camera is unique and requires calibration before use. This module provides the abstractions to create the calibration data which are then used in operation. \n"
   ]
  },
  {
   "cell_type": "code",
   "execution_count": null,
   "metadata": {},
   "outputs": [],
   "source": [
    "#hide\n",
    "\n",
    "# documentation extraction for class methods\n",
    "from nbdev.showdoc import *\n",
    "\n",
    "# unit tests using test_eq(...)\n",
    "from fastcore.test import *\n",
    "\n",
    "# monkey patching class methods using @patch\n",
    "from fastcore.foundation import *\n",
    "from fastcore.foundation import patch\n",
    "\n",
    "# imitation of Julia's multiple dispatch using @typedispatch\n",
    "from fastcore.dispatch import typedispatch\n",
    "\n",
    "# bring forth **kwargs from an inherited class for documentation\n",
    "from fastcore.meta import delegates"
   ]
  },
  {
   "cell_type": "code",
   "execution_count": null,
   "metadata": {},
   "outputs": [],
   "source": [
    "#export\n",
    "\n",
    "from fastcore.foundation import patch\n",
    "from fastcore.meta import delegates\n",
    "import xarray as xr\n",
    "import numpy as np\n",
    "import matplotlib.pyplot as plt\n",
    "import pandas as pd\n",
    "from scipy.interpolate import interp1d\n",
    "from PIL import Image\n",
    "from scipy.signal import decimate\n",
    "\n",
    "from typing import Iterable, Union, Callable, List, TypeVar, Generic, Tuple, Optional\n",
    "import datetime\n",
    "import json\n",
    "import pickle"
   ]
  },
  {
   "cell_type": "code",
   "execution_count": null,
   "metadata": {},
   "outputs": [],
   "source": [
    "#export\n",
    "\n",
    "from openhsi.data import *\n",
    "from openhsi.capture import *"
   ]
  },
  {
   "cell_type": "code",
   "execution_count": null,
   "metadata": {},
   "outputs": [],
   "source": [
    "\n",
    "\"\"\"\n",
    "cam_prop.settings[\"longitude\"] = -17.7\n",
    "cam_prop.settings[\"latitude\"] = 146.1\n",
    "cam_prop.settings[\"datetime_str\"] = \"2021-05-26 03:26\"\n",
    "cam_prop.settings[\"altitude\"] = 0.12\n",
    "cam_prop.settings[\"radiosonde_station_num\"] = 94299\n",
    "cam_prop.settings[\"radiosonde_region\"] = \"pac\"\n",
    "cam_prop.settings[\"sixs_path\"] = \"assets/sixsV1.1\"\n",
    "\"\"\""
   ]
  },
  {
   "cell_type": "markdown",
   "metadata": {},
   "source": [
    "\n"
   ]
  },
  {
   "cell_type": "code",
   "execution_count": null,
   "metadata": {},
   "outputs": [],
   "source": [
    "#export\n",
    "\n",
    "class SettingsBuilderMixin():\n",
    "    \n",
    "    def say_hello(self,):\n",
    "        print(\"Hello!\")"
   ]
  },
  {
   "cell_type": "code",
   "execution_count": null,
   "metadata": {},
   "outputs": [],
   "source": [
    "\n",
    "#export\n",
    "\n",
    "class SettingsBuilderMetaclass(type):\n",
    "    def __new__(cls, clsname:str, cam_class, attrs) -> \"Class\":\n",
    "        \"\"\"Create a SettingsBuilder class based on your chosen `CameraClass`.\"\"\"\n",
    "        return super(SettingsBuilderMetaclass, cls).__new__(cls, clsname, (cam_class,SettingsBuilderMixin), attrs)\n",
    "    \n",
    "\n",
    "def create_settings_builder(clsname:str, cam_class:\"Camera Class\") -> \"SettingsBuilder Class\":\n",
    "    \"\"\"Create a `SettingsBuilder` class called `clsname` based on your chosen `cam_class`.\"\"\"\n",
    "    return type(clsname, (cam_class,SettingsBuilderMixin), {})\n",
    "    \n",
    "    "
   ]
  },
  {
   "cell_type": "code",
   "execution_count": null,
   "metadata": {},
   "outputs": [
    {
     "name": "stdout",
     "output_type": "stream",
     "text": [
      "Hello!\n"
     ]
    }
   ],
   "source": [
    "\n",
    "\n",
    "SettingsBuilder = create_settings_builder(\"SettingsBuilder\",SimulatedCamera)\n",
    "sb = SettingsBuilder(txt_path=\"assets/cam_settings.txt\",pkl_path=\"assets/cam_calibration.pkl\")\n",
    "sb.say_hello()"
   ]
  },
  {
   "cell_type": "markdown",
   "metadata": {},
   "source": [
    "\n",
    "@delegates()\n",
    "class SettingsBuilder(CameraProperties):\n",
    "    \n",
    "    def __init__(self,cam_class:\"custom camera class\" = SimulatedCamera, **kwargs):\n",
    "        \"\"\"\"\"\"\n",
    "        super().__init__(**kwargs)\n",
    "        \n",
    "        self.cam_class = cam_class\n",
    "        with cam_class(**kwargs) as cam:\n",
    "            cam.start_cam()\n",
    "            img = cam.get_img()\n",
    "            cam.stop_cam()\n",
    "            \n",
    "        \n",
    "        \n",
    "\n",
    "sb = SettingsBuilder(img_path=\"assets/rocky_beach.png\", n_lines=1024, processing_lvl = 3)"
   ]
  },
  {
   "cell_type": "markdown",
   "metadata": {},
   "source": [
    "SB2 = type(\"SB2\",(SimulatedCamera,),{\"hello\":2})\n",
    "sb2 = SB2()\n",
    "sb2.hello"
   ]
  },
  {
   "cell_type": "code",
   "execution_count": null,
   "metadata": {},
   "outputs": [],
   "source": []
  }
 ],
 "metadata": {
  "kernelspec": {
   "display_name": "Python 3.8.3 64-bit ('3.8.3': pyenv)",
   "language": "python",
   "name": "python38364bit383pyenv4fc1801d817447c6b9c76f7bacd532a1"
  }
 },
 "nbformat": 4,
 "nbformat_minor": 4
}
