{
 "cells": [
  {
   "cell_type": "code",
   "execution_count": null,
   "metadata": {},
   "outputs": [],
   "source": [
    "# default_exp calibrate"
   ]
  },
  {
   "cell_type": "markdown",
   "metadata": {},
   "source": [
    "# Calibration Procedure\n",
    "\n",
    "> summary\n",
    "\n",
    "Every OpenHSI camera is unique and requires calibration before use. This module provides the abstractions to create the calibration data which are then used in operation. \n"
   ]
  },
  {
   "cell_type": "code",
   "execution_count": null,
   "metadata": {},
   "outputs": [],
   "source": [
    "#hide\n",
    "\n",
    "# documentation extraction for class methods\n",
    "from nbdev.showdoc import *\n",
    "\n",
    "# unit tests using test_eq(...)\n",
    "from fastcore.test import *\n",
    "\n",
    "# monkey patching class methods using @patch\n",
    "from fastcore.foundation import *\n",
    "from fastcore.foundation import patch\n",
    "\n",
    "# imitation of Julia's multiple dispatch using @typedispatch\n",
    "from fastcore.dispatch import typedispatch\n",
    "\n",
    "# bring forth **kwargs from an inherited class for documentation\n",
    "from fastcore.meta import delegates"
   ]
  },
  {
   "cell_type": "code",
   "execution_count": null,
   "metadata": {},
   "outputs": [],
   "source": [
    "#export\n",
    "\n",
    "from fastcore.foundation import patch\n",
    "from fastcore.meta import delegates\n",
    "import xarray as xr\n",
    "import numpy as np\n",
    "import matplotlib.pyplot as plt\n",
    "import pandas as pd\n",
    "from scipy.interpolate import interp1d\n",
    "from PIL import Image\n",
    "from scipy.signal import decimate\n",
    "\n",
    "from typing import Iterable, Union, Callable, List, TypeVar, Generic, Tuple, Optional\n",
    "import datetime\n",
    "import json\n",
    "import pickle"
   ]
  },
  {
   "cell_type": "code",
   "execution_count": null,
   "metadata": {},
   "outputs": [],
   "source": [
    "#export\n",
    "\n",
    "from openhsi.data import *\n",
    "from openhsi.capture import *\n",
    "from openhsi.cameras import *"
   ]
  },
  {
   "cell_type": "code",
   "execution_count": null,
   "metadata": {},
   "outputs": [],
   "source": [
    "\n",
    "\"\"\"\n",
    "cam_prop.settings[\"longitude\"] = -17.7\n",
    "cam_prop.settings[\"latitude\"] = 146.1\n",
    "cam_prop.settings[\"datetime_str\"] = \"2021-05-26 03:26\"\n",
    "cam_prop.settings[\"altitude\"] = 0.12\n",
    "cam_prop.settings[\"radiosonde_station_num\"] = 94299\n",
    "cam_prop.settings[\"radiosonde_region\"] = \"pac\"\n",
    "cam_prop.settings[\"sixs_path\"] = \"assets/sixsV1.1\"\n",
    "\"\"\""
   ]
  },
  {
   "cell_type": "markdown",
   "metadata": {},
   "source": [
    "## Find illuminated sensor area\n",
    "\n",
    "Since the longer dimension is used for the spectral channels, the rows correspond to the cross-track dimension and are limited by the optics (slit). The useable area is cropped out."
   ]
  },
  {
   "cell_type": "markdown",
   "metadata": {},
   "source": [
    "\n"
   ]
  },
  {
   "cell_type": "code",
   "execution_count": null,
   "metadata": {},
   "outputs": [],
   "source": [
    "#export\n",
    "\n",
    "class SettingsBuilderMixin():\n",
    "    \n",
    "    def say_hello(self,):\n",
    "        print(\"Hello!\")\n",
    "\n",
    "    def row_minmax(self, img:np.ndarray, show:bool=False) -> tuple:\n",
    "        col_summed = np.sum(img,axis=1)\n",
    "        edges = np.abs(np.gradient(col_summed))\n",
    "        locs = find_peaks(edges, height=5000, width=1.5, prominence=0.01)[0]\n",
    "        if show:\n",
    "            plt.plot(col_summed)\n",
    "            plt.plot([locs[0],locs[0]],[0,np.max(col_summed)],'r',alpha=0.5,label=f\"{locs[0]}\")\n",
    "            plt.plot([locs[-1],locs[-1]],[0,np.max(col_summed)],'r',alpha=0.5,label=f\"{locs[-1]}\")\n",
    "            plt.xlabel(\"row index\")\n",
    "            plt.legend()\n",
    "        return (int(locs[0]),int(locs[-1]))\n",
    "    "
   ]
  },
  {
   "cell_type": "markdown",
   "metadata": {},
   "source": [
    "## Smile Correction\n",
    "\n",
    "The emissions lines, which should be straight vertical, appear slightly curved. This is smile error (error in the spectral dimension). "
   ]
  },
  {
   "cell_type": "code",
   "execution_count": null,
   "metadata": {},
   "outputs": [],
   "source": [
    "#export\n",
    "\n",
    "@patch\n",
    "def find_smile_shifts(self:SettingsBuilderMixin, img:np.ndarray) -> np.array:\n",
    "    sz = np.shape(img)\n",
    "    window = np.int32(np.flip(img[202,:].copy()))\n",
    "    \n",
    "    shifts = np.zeros((sz[0],),dtype=np.int16)\n",
    "    \n",
    "    for i in range(sz[0]):\n",
    "        pattern_match = np.convolve(img[i,:],window,\"same\")\n",
    "        shifts[i] = np.argmax(pattern_match)\n",
    "    \n",
    "    shifts -= sz[1]//2\n",
    "    shifts -= np.min(shifts) # make all entries positive\n",
    "    return shifts"
   ]
  },
  {
   "cell_type": "markdown",
   "metadata": {},
   "source": [
    "## Map the spectral axis to wavelengths\n",
    "\n",
    "To do this, peaks in the HgAr spectrum are found, refined by curve-fitting with Gaussians. The location of the peaks then allow for interpolation to get the map from array (column) index to wavelength (nm)."
   ]
  },
  {
   "cell_type": "code",
   "execution_count": null,
   "metadata": {},
   "outputs": [],
   "source": [
    "#export\n",
    "\n",
    "# top amplitude emission lines sorted in ascending order. You can use fewer entries if you'd like.\n",
    "HgAr_lines = np.array([404.656,435.833,546.074,576.960,579.066,696.543,738.393,\n",
    "                           750.387,763.511,772.376,794.818,800.616,811.531])\n",
    "\n",
    "def sum_gaussians(x:\"indices np.array\", \n",
    "                    *args:\"amplitude, peak position, peak width, constant\") -> np.array:\n",
    "    split = len(args)//3\n",
    "    A   = args[0:split]         # amplitude\n",
    "    mu  = args[split:2*split]   # peak position\n",
    "    sigma = args[split*2:-1]    # peak stdev\n",
    "    c   = args[-1]              # offset\n",
    "    return np.array( [A[i] * np.exp( - np.square( (x - mu[i])/sigma[i] ) ) \n",
    "                        for i in range(len(A))] ).sum(axis=0) + c\n",
    "\n",
    "from scipy.signal import savgol_filter\n",
    "\n",
    "@patch\n",
    "def fit_spectral_lines(self:SettingsBuilderMixin, spectra:np.array,spectral_lines:list,show=True):\n",
    "    \"\"\"finds the index to wavelength map given a spectra and a list of emission lines.\"\"\"\n",
    "    \n",
    "    filtered_spec = savgol_filter(spectra, 5, 3)\n",
    "    \n",
    "    mu, props = find_peaks(filtered_spec, height = 40, width = 1.5, prominence = 0.1)\n",
    "    A = props[\"peak_heights\"] # amplitude\n",
    "    σ = 0.5 * props[\"widths\"] # standard deviation\n",
    "    c = 0.02                  # constant\n",
    "    params0 = [*A,*mu,*σ,c]   # flatten to 1D array\n",
    "    \n",
    "    # refine the estimates from find_peaks by curve fitting Gaussians\n",
    "    coeffs, _ = curve_fit(sum_gaussians, np.arange(len(spectra)), spectra, p0=params0)\n",
    "    \n",
    "    split = len(params0)//3\n",
    "    A = coeffs[:split]\n",
    "    μ = coeffs[split:2*split]\n",
    "    σ = coeffs[2*split:-1]\n",
    "    \n",
    "    # find the array index for the top amplitude emissions lines\n",
    "    top_A_idx = np.flip(np.argsort(A))[:len(spectral_lines)]\n",
    "    sorted_idx = np.sort(μ[top_A_idx])\n",
    "    \n",
    "    # calculate the wavelength corresponding to each array index (should be straight)\n",
    "    poly_func = np.poly1d( np.polyfit(sorted_idx, spectral_lines, 2) )\n",
    "    wavelengths = poly_func(np.arange(len(spectra)))\n",
    "    \n",
    "    if show:\n",
    "        plt.subplots(figsize=(12,3))\n",
    "        plt.plot(wavelengths,spectra)\n",
    "        plt.xlabel(\"wavelength (nm)\")\n",
    "        plt.ylabel(\"digital number\")\n",
    "        for i in np.uint16(np.round(sorted_idx)):\n",
    "            plt.plot([wavelengths[i],wavelengths[i]],[0,np.max(spectra)],'r',alpha=0.5)\n",
    "            print(wavelengths[i])\n",
    "        plt.axis([min(wavelengths),max(wavelengths),0,max(spectra)])\n",
    "        \n",
    "        #plt.show()\n",
    "    \n",
    "    return wavelengths"
   ]
  },
  {
   "cell_type": "code",
   "execution_count": null,
   "metadata": {},
   "outputs": [],
   "source": [
    "\n",
    "#export\n",
    "\n",
    "class SettingsBuilderMetaclass(type):\n",
    "    def __new__(cls, clsname:str, cam_class, attrs) -> \"Class\":\n",
    "        \"\"\"Create a SettingsBuilder class based on your chosen `CameraClass`.\"\"\"\n",
    "        return super(SettingsBuilderMetaclass, cls).__new__(cls, clsname, (cam_class,SettingsBuilderMixin), attrs)\n",
    "    \n",
    "\n",
    "def create_settings_builder(clsname:str, cam_class:\"Camera Class\") -> \"SettingsBuilder Class\":\n",
    "    \"\"\"Create a `SettingsBuilder` class called `clsname` based on your chosen `cam_class`.\"\"\"\n",
    "    return type(clsname, (cam_class,SettingsBuilderMixin), {})\n",
    "    \n",
    "    "
   ]
  },
  {
   "cell_type": "code",
   "execution_count": null,
   "metadata": {},
   "outputs": [
    {
     "name": "stdout",
     "output_type": "stream",
     "text": [
      "Hello!\n"
     ]
    }
   ],
   "source": [
    "\n",
    "\n",
    "SettingsBuilder = create_settings_builder(\"SettingsBuilder\",SimulatedCamera)\n",
    "sb = SettingsBuilder(txt_path=\"assets/cam_settings.txt\",pkl_path=\"assets/cam_calibration.pkl\")\n",
    "sb.say_hello()"
   ]
  },
  {
   "cell_type": "markdown",
   "metadata": {},
   "source": [
    "\n",
    "@delegates()\n",
    "class SettingsBuilder(CameraProperties):\n",
    "    \n",
    "    def __init__(self,cam_class:\"custom camera class\" = SimulatedCamera, **kwargs):\n",
    "        \"\"\"\"\"\"\n",
    "        super().__init__(**kwargs)\n",
    "        \n",
    "        self.cam_class = cam_class\n",
    "        with cam_class(**kwargs) as cam:\n",
    "            cam.start_cam()\n",
    "            img = cam.get_img()\n",
    "            cam.stop_cam()\n",
    "            \n",
    "        \n",
    "        \n",
    "\n",
    "sb = SettingsBuilder(img_path=\"assets/rocky_beach.png\", n_lines=1024, processing_lvl = 3)"
   ]
  },
  {
   "cell_type": "markdown",
   "metadata": {},
   "source": [
    "SB2 = type(\"SB2\",(SimulatedCamera,),{\"hello\":2})\n",
    "sb2 = SB2()\n",
    "sb2.hello"
   ]
  },
  {
   "cell_type": "code",
   "execution_count": null,
   "metadata": {},
   "outputs": [],
   "source": []
  }
 ],
 "metadata": {
  "kernelspec": {
   "display_name": "Python 3.8.3 64-bit ('3.8.3': pyenv)",
   "language": "python",
   "name": "python38364bit383pyenv4fc1801d817447c6b9c76f7bacd532a1"
  }
 },
 "nbformat": 4,
 "nbformat_minor": 4
}
