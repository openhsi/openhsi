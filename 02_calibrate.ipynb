{
 "cells": [
  {
   "cell_type": "code",
   "execution_count": null,
   "metadata": {},
   "outputs": [],
   "source": [
    "# default_exp calibrate"
   ]
  },
  {
   "cell_type": "markdown",
   "metadata": {},
   "source": [
    "# Calibration Procedure\n",
    "\n",
    "> summary\n",
    "\n"
   ]
  },
  {
   "cell_type": "code",
   "execution_count": null,
   "metadata": {},
   "outputs": [],
   "source": [
    "#hide\n",
    "\n",
    "# documentation extraction for class methods\n",
    "from nbdev.showdoc import *\n",
    "\n",
    "# unit tests using test_eq(...)\n",
    "from fastcore.test import *\n",
    "\n",
    "# monkey patching class methods using @patch\n",
    "from fastcore.foundation import *\n",
    "from fastcore.foundation import patch\n",
    "\n",
    "# imitation of Julia's multiple dispatch using @typedispatch\n",
    "from fastcore.dispatch import typedispatch\n",
    "\n",
    "# bring forth **kwargs from an inherited class for documentation\n",
    "from fastcore.meta import delegates"
   ]
  },
  {
   "cell_type": "code",
   "execution_count": null,
   "metadata": {},
   "outputs": [],
   "source": [
    "#export\n",
    "\n",
    "from fastcore.foundation import patch\n",
    "from fastcore.meta import delegates\n",
    "import xarray as xr\n",
    "import numpy as np\n",
    "import matplotlib.pyplot as plt\n",
    "import pandas as pd\n",
    "from scipy.interpolate import interp1d\n",
    "from PIL import Image\n",
    "from scipy.signal import decimate\n",
    "\n",
    "from typing import Iterable, Union, Callable, List, TypeVar, Generic, Tuple, Optional\n",
    "import datetime\n",
    "import json\n",
    "import pickle"
   ]
  },
  {
   "cell_type": "code",
   "execution_count": null,
   "metadata": {},
   "outputs": [],
   "source": [
    "#export\n",
    "\n",
    "from openhsi.data import *\n",
    "from openhsi.capture import *"
   ]
  },
  {
   "cell_type": "code",
   "execution_count": null,
   "metadata": {},
   "outputs": [],
   "source": []
  },
  {
   "cell_type": "code",
   "execution_count": null,
   "metadata": {},
   "outputs": [],
   "source": []
  },
  {
   "cell_type": "code",
   "execution_count": null,
   "metadata": {},
   "outputs": [],
   "source": [
    "\"\"\"\n",
    "cam_prop.settings[\"longitude\"] = -17.7\n",
    "cam_prop.settings[\"latitude\"] = 146.1\n",
    "cam_prop.settings[\"datetime_str\"] = \"2021-05-26 03:26\"\n",
    "cam_prop.settings[\"altitude\"] = 0.12\n",
    "cam_prop.settings[\"radiosonde_station_num\"] = 94299\n",
    "cam_prop.settings[\"radiosonde_region\"] = \"pac\"\n",
    "cam_prop.settings[\"sixs_path\"] = \"assets/sixsV1.1\"\n",
    "\"\"\""
   ]
  },
  {
   "cell_type": "code",
   "execution_count": null,
   "metadata": {},
   "outputs": [],
   "source": []
  }
 ],
 "metadata": {
  "kernelspec": {
   "display_name": "Python 3.8.3 64-bit ('3.8.3': pyenv)",
   "language": "python",
   "name": "python38364bit383pyenv4fc1801d817447c6b9c76f7bacd532a1"
  },
  "language_info": {
   "codemirror_mode": {
    "name": "ipython",
    "version": 3
   },
   "file_extension": ".py",
   "mimetype": "text/x-python",
   "name": "python",
   "nbconvert_exporter": "python",
   "pygments_lexer": "ipython3",
   "version": "3.8.3"
  }
 },
 "nbformat": 4,
 "nbformat_minor": 4
}
