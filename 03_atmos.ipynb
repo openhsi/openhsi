{
 "cells": [
  {
   "cell_type": "code",
   "execution_count": null,
   "metadata": {},
   "outputs": [],
   "source": [
    "# default_exp atmos"
   ]
  },
  {
   "cell_type": "markdown",
   "metadata": {},
   "source": [
    "# Atmospheric Correction\n",
    "\n",
    "> summary\n",
    "\n",
    "This module contains a 6SV1.1 Atmospheric Correction class that computes the pixel radiance given some parameters and a servable interactive SNR widget. 6SV is an open souce radiative transfer code that predicts the solar spectrum received by a sensor facing the Earth. Since it is written in Fortran, we use a Python wrapper called Py6S to expose the functionality and that means we are limited to using 6SV1.1 rather than the newer 6SV2.1. "
   ]
  },
  {
   "cell_type": "code",
   "execution_count": null,
   "metadata": {},
   "outputs": [],
   "source": [
    "#hide\n",
    "\n",
    "# documentation extraction for class methods\n",
    "from nbdev.showdoc import *\n",
    "\n",
    "# unit tests using test_eq(...)\n",
    "from fastcore.test import *\n",
    "\n",
    "# monkey patching class methods using @patch\n",
    "from fastcore.foundation import *\n",
    "from fastcore.foundation import patch\n",
    "\n",
    "# imitation of Julia's multiple dispatch using @typedispatch\n",
    "from fastcore.dispatch import typedispatch\n",
    "\n",
    "# bring forth **kwargs from an inherited class for documentation\n",
    "from fastcore.meta import delegates"
   ]
  },
  {
   "cell_type": "code",
   "execution_count": null,
   "metadata": {},
   "outputs": [],
   "source": [
    "#export\n",
    "\n",
    "from fastcore.foundation import patch\n",
    "from fastcore.meta import delegates\n",
    "import numpy as np\n",
    "import matplotlib.pyplot as plt\n",
    "import pandas as pd\n",
    "from datetime import datetime as dt\n",
    "import os\n",
    "\n",
    "import param\n",
    "import panel as pn\n",
    "pn.extension()\n",
    "\n",
    "import holoviews as hv\n",
    "hv.extension('bokeh')\n",
    "\n",
    "from Py6S import *\n"
   ]
  },
  {
   "cell_type": "code",
   "execution_count": null,
   "metadata": {},
   "outputs": [],
   "source": [
    "#export\n",
    "\n",
    "#from openhsi.data import *\n"
   ]
  },
  {
   "cell_type": "markdown",
   "metadata": {},
   "source": [
    "\n",
    "\n",
    "## Atmospheric Profile from Balloon Sounding\n",
    "\n",
    "\n",
    "Find the closest station at http://weather.uwyo.edu/upperair/sounding.html\n",
    "to use the atmospheric sounding on the day.\n",
    "find the station number and region code (for example, south pacific is `pac` and new zealand is `nz`)\n",
    "Default is Willis Island in Queensland, Australia.\n",
    "https://py6s.readthedocs.io/en/latest/helpers.html#importing-atmospheric-profiles-from-radiosonde-data\n",
    "\n",
    "solar zenith angle already taken into account\n",
    "\n",
    "## Aerosol Profile from Aeronet\n",
    "\n",
    "Permanently broken. \n"
   ]
  },
  {
   "cell_type": "code",
   "execution_count": null,
   "metadata": {},
   "outputs": [],
   "source": [
    "#export\n",
    "\n",
    "class Model6SV():\n",
    "    \n",
    "    def __init__(self, lat:\"degrees\" = -17.7, lon:\"degrees\" = 146.1, # Queensland\n",
    "                 z_time:\"zulu\" = dt.strptime(\"2021-05-26 03:26\",\"%Y-%m-%d %H:%M\"),\n",
    "                 station_num:int = 94299, region:str = \"pac\",\n",
    "                 alt:\"km\" = 0.12, zen:\"degrees\" = 0., azi:\"degrees\" = 0., \n",
    "                 tile_type:GroundReflectance = GroundReflectance.GreenVegetation,\n",
    "                 aero_profile:AeroProfile = AeroProfile.Maritime,\n",
    "                 λ_array:\"array [μm]\" = np.arange(0.4, .8, 0.004),\n",
    "                 sixs_path=\"assets/sixsV1.1\"):\n",
    "        \n",
    "        self.λ_array = λ_array\n",
    "        \n",
    "        s = SixS(sixs_path)\n",
    "        \n",
    "        #Atmosphere\n",
    "        s.atmos_profile = AtmosProfile.PredefinedType(AtmosProfile.MidlatitudeSummer)\n",
    "        \n",
    "        # crude calculation if daytime is 12Z or 0Z based on time and longitude\n",
    "        z_hour = 0 if ((z_time.hour + int(lon/30))%24 - 12)/12. < 0.5 else 12\n",
    "        radiosonde_url = f\"http://weather.uwyo.edu/cgi-bin/sounding?region={region}&TYPE=TEXT%3ALIST&YEAR={z_time.year}&MONTH={z_time.month:02d}&FROM={z_time.day:02d}{z_hour:02d}{z_time.minute:02d}&TO={z_time.day:02d}{z_hour:02d}&STNM={station_num}\"\n",
    "        #print(radiosonde_url)\n",
    "        s.atmos_profile = SixSHelpers.Radiosonde.import_uow_radiosonde_data(radiosonde_url,AtmosProfile.MidlatitudeSummer)\n",
    "        \n",
    "        # website at http://weather.uwyo.edu/cgi-bin/sounding?region=pac&TYPE=TEXT%3ALIST&YEAR=2021&MONTH=05&FROM=1212&TO=1212&STNM=94299\n",
    "        \n",
    "        # this can be custom?\n",
    "        s.aero_profile = AeroProfile.PredefinedType(aero_profile)\n",
    "        #s = SixSHelpers.Aeronet.import_aeronet_data_fixed(SixSHelpers.Aeronet,s,\"assets/20190101_20211231_Lucinda.ONEILL_lev15\",\"26-05-2021 03:26\")\n",
    "        s.visibility = 40 # km\n",
    "        \n",
    "        #Viewing and sun geometry\n",
    "        s.geometry = Geometry.User()\n",
    "        #s.geometry.solar_z = 0; s.geometry.solar_a = 0; s.geometry.view_z = 0; s.geometry.view_a = 0\n",
    "        s.geometry.day = z_time.day\n",
    "        s.geometry.month = z_time.month\n",
    "        s.geometry.from_time_and_location(lat, lon, f\"{z_time.year}-{z_time.month:02d}-{z_time.day:02d} {z_time.hour}:{z_time.minute}:{z_time.second}\", zen, azi)\n",
    "        \n",
    "        #Altitude\n",
    "        s.altitudes = Altitudes()\n",
    "        s.altitudes.set_sensor_custom_altitude(alt) # km\n",
    "        s.altitudes.set_target_sea_level()\n",
    "        if tile_type is not None: s.ground_reflectance = GroundReflectance.HomogeneousLambertian(tile_type) \n",
    "\n",
    "        self.s = s\n",
    "        \n",
    "        self.__call__()\n",
    "        \n",
    "    def rad2photons(self):\n",
    "        self.photons = self.radiance/( 1.98644582e-25/(self.λ*1e-6) )\n",
    "        \n",
    "    def __call__(self) -> None:\n",
    "        self.λ, self.radiance = SixSHelpers.Wavelengths.run_wavelengths(self.s,self.λ_array,output_name=\"pixel_radiance\")\n",
    "        print(\"6SV computation done\")\n",
    "        \n",
    "        df = pd.DataFrame({\"wavelength\":self.λ,\"radiance\":self.radiance})\n",
    "        df.set_index(\"wavelength\",inplace=True)\n",
    "        df.interpolate(method=\"cubicspline\",axis=\"index\",limit_direction=\"both\",inplace=True)\n",
    "        self.radiance = df[\"radiance\"].to_numpy()\n",
    "        self.rad2photons()\n",
    "    \n",
    "    def show(self):\n",
    "        plt.plot(self.λ*1000,self.radiance,label=\"computed radiance\")\n",
    "        plt.xlabel(\"wavelength (nm)\")\n",
    "        plt.ylabel(\"radiance (W/m$^2$/sr/$\\mu$m)\")\n",
    "        plt.legend()\n",
    "        plt.minorticks_on()\n",
    "\n"
   ]
  },
  {
   "cell_type": "code",
   "execution_count": null,
   "metadata": {},
   "outputs": [],
   "source": []
  }
 ],
 "metadata": {
  "kernelspec": {
   "display_name": "Python 3.8.3 64-bit ('3.8.3': pyenv)",
   "language": "python",
   "name": "python38364bit383pyenv4fc1801d817447c6b9c76f7bacd532a1"
  },
  "language_info": {
   "codemirror_mode": {
    "name": "ipython",
    "version": 3
   },
   "file_extension": ".py",
   "mimetype": "text/x-python",
   "name": "python",
   "nbconvert_exporter": "python",
   "pygments_lexer": "ipython3",
   "version": "3.8.3"
  }
 },
 "nbformat": 4,
 "nbformat_minor": 4
}
