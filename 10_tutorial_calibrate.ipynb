{
 "cells": [
  {
   "cell_type": "markdown",
   "metadata": {},
   "source": [
    "# Tutorial: How to calibrate the OpenHSI camera\n",
    "\n",
    "> Summary to go here\n",
    "\n",
    "Longer description here.\n"
   ]
  },
  {
   "cell_type": "code",
   "execution_count": null,
   "metadata": {},
   "outputs": [],
   "source": [
    "#hide\n",
    "\n",
    "# documentation extraction for class methods\n",
    "from nbdev.showdoc import *\n",
    "\n",
    "# unit tests using test_eq(...)\n",
    "from fastcore.test import *s"
   ]
  },
  {
   "cell_type": "code",
   "execution_count": null,
   "metadata": {},
   "outputs": [],
   "source": [
    "#all_hardware"
   ]
  },
  {
   "cell_type": "code",
   "execution_count": null,
   "metadata": {},
   "outputs": [],
   "source": [
    "from openhsi.calibrate import create_settings_builder\n",
    "from openhsi.cameras import XimeaCamera\n",
    "\n",
    "SettingsBuilder = create_settings_builder(\"SettingsBuilder\",XimeaCamera)\n",
    "#sb = SettingsBuilder(json_path=\"assets/cam_settings.json\",pkl_path=\"assets/cam_calibration.pkl\")\n",
    "sb = SettingsBuilder(json_path=\"assets/cam_settings.json\",pkl_path=\"\",processing_lvl=-1)"
   ]
  },
  {
   "cell_type": "code",
   "execution_count": null,
   "metadata": {},
   "outputs": [],
   "source": [
    "sb.retake_flat_field(show=True)\n",
    "sb.update_row_minmax()\n",
    "sb.update_resolution()"
   ]
  },
  {
   "cell_type": "code",
   "execution_count": null,
   "metadata": {},
   "outputs": [],
   "source": [
    "xbinwidth = 896\n",
    "xbinoffset = 528\n",
    "exposure_ms = 10 \n",
    "serial_num:str = None\n",
    "\n",
    "try:\n",
    "    from ximea import xiapi\n",
    "    #xiapi=xiapi # make avalaible for later access just in case.\n",
    "except ModuleNotFoundError:\n",
    "    warnings.warn(\"ModuleNotFoundError: No module named 'ximea'.\",stacklevel=2)\n",
    "\n",
    "xicam = xiapi.Camera()\n",
    "\n",
    "xicam.open_device_by_SN(serial_num) if serial_num else xicam.open_device()\n",
    "\n",
    "print(f'Connected to device {xicam.get_device_sn()}')\n",
    "\n",
    "xbinwidth  = xbinwidth\n",
    "xbinoffset = xbinoffset\n",
    "exposure   = exposure_ms\n",
    "gain       = 0\n",
    "\n",
    "xicam.set_width(xbinwidth)\n",
    "xicam.set_offsetX(xbinoffset)\n",
    "xicam.set_exposure_direct(1000*exposure)\n",
    "xicam.set_gain_direct(gain)\n",
    "\n",
    "xicam.set_imgdataformat(\"XI_RAW16\")\n",
    "xicam.set_output_bit_depth(\"XI_BPP_12\")\n",
    "xicam.enable_output_bit_packing()\n",
    "xicam.disable_aeag()\n",
    "\n",
    "xicam.set_binning_vertical(2)\n",
    "xicam.set_binning_vertical_mode(\"XI_BIN_MODE_SUM\")\n",
    "\n",
    "rows, cols = xicam.get_height(), xicam.get_width()\n",
    "img = xiapi.Image()\n",
    "\n",
    "\n",
    "        "
   ]
  },
  {
   "cell_type": "code",
   "execution_count": null,
   "metadata": {},
   "outputs": [],
   "source": [
    "xicam.get_buffer_policy()"
   ]
  }
 ],
 "metadata": {
  "kernelspec": {
   "display_name": "Python 3 (ipykernel)",
   "language": "python",
   "name": "python3"
  }
 },
 "nbformat": 4,
 "nbformat_minor": 4
}
