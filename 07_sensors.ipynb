{
 "cells": [
  {
   "cell_type": "code",
   "execution_count": null,
   "metadata": {},
   "outputs": [],
   "source": [
    "# default_exp sensors"
   ]
  },
  {
   "cell_type": "markdown",
   "metadata": {},
   "source": [
    "# Sensors\n",
    "> reads sensor data over UART\n"
   ]
  },
  {
   "cell_type": "code",
   "execution_count": null,
   "metadata": {},
   "outputs": [],
   "source": [
    "#export\n",
    "import time\n",
    "import serial\n",
    "import numpy as np\n",
    "import pandas as pd\n",
    "\n",
    "from pathlib import Path\n",
    "#import Jetson.GPIO as GPIO\n",
    "import datetime\n",
    "import pickle"
   ]
  },
  {
   "cell_type": "markdown",
   "metadata": {},
   "source": [
    "\n",
    "Sensor data packet read and decode pyserial code below. Modified from a past project of mine. \n",
    "\n",
    "Todo: Read the RTC timestamp at beginning of collection. The data packets only contain timestamp offsets.\n"
   ]
  },
  {
   "cell_type": "code",
   "execution_count": null,
   "metadata": {},
   "outputs": [],
   "source": [
    "#hardware\n",
    "\n",
    "def read_packet(header:chr = \"*\", num_bytes:int = 80, timeout:float = 6.) -> \"byte string\":\n",
    "    \"\"\"Reads `num_bytes` of a data packet starting with `header` and timing out after `timeout` seconds if packet is invalid.\"\"\"\n",
    "    buff = b\"\"\n",
    "    \n",
    "    # Check for packet start of frame\n",
    "    start_time = time.time()\n",
    "    while True:\n",
    "        if ser.in_waiting> 0:\n",
    "            b = ser.read()\n",
    "            if b ==  b'*':\n",
    "                #print(\"Received Packet\")\n",
    "                break\n",
    "            \n",
    "        if time.time() > start_time + timeout: \n",
    "            print(\"No data packets.\")\n",
    "            return None\n",
    "    \n",
    "    # read the rest of data packet\n",
    "    start_time = time.time()\n",
    "    for i in range(num_bytes):\n",
    "        if time.time() > start_time + timeout:\n",
    "            print(\"Received Incomplete Packet\")\n",
    "            break\n",
    "        \n",
    "        if ser.in_waiting > 0:\n",
    "            buff += ser.read()\n",
    "            \n",
    "    return buff\n",
    "\n",
    "def decode_packet(buff:\"byte string\") -> list:\n",
    "    \"\"\"Decode `buff` into a list of decoded variables\"\"\"\n",
    "    if buff is None:\n",
    "        return []\n",
    "    \n",
    "    contents = []\n",
    "    np_buff = np.frombuffer(buff,dtype='uint8').astype(np.uint8)\n",
    "    \n",
    "    # Real Time Clock\n",
    "    contents.append( np_buff[0:4].view(np.uint32)    ) # rtc timestamp offset [ms]\n",
    "    \n",
    "    # Humidity, Pressure sensor\n",
    "    contents.append( np_buff[4:8].view(np.uint32)    ) # humidity timestamp offset [ms]\n",
    "    contents.append( np_buff[8:12].view(np.float32)  ) # temperature [deg C]\n",
    "    contents.append( np_buff[12:16].view(np.float32) ) # pressure [hPa]\n",
    "    contents.append( np_buff[16:20].view(np.float32) ) # humidity [relative humidity %]\n",
    "    \n",
    "    # Inertial Measurement Unit\n",
    "    contents.append( np_buff[20:24].view(np.uint32)  ) # imu timestamp offset [ms]\n",
    "    contents.append( np_buff[24:28].view(np.float32) ) # quaternion w\n",
    "    contents.append( np_buff[28:32].view(np.float32) ) # quaternion x\n",
    "    contents.append( np_buff[32:36].view(np.float32) ) # quaternion y\n",
    "    contents.append( np_buff[36:40].view(np.float32) ) # quaternion z\n",
    "    contents.append( np_buff[40:41].view(np.uint8)   ) # calibration status\n",
    "    \n",
    "    # Global Positioning System\n",
    "    contents.append( np_buff[41:45].view(np.uint32)  ) # gps timestamp offset [ms]\n",
    "    contents.append( np_buff[45:49].view(np.int32)   ) # latitude [deg *10^-7]\n",
    "    contents.append( np_buff[49:53].view(np.int32)   ) # longitude [deg *10^-7]\n",
    "    contents.append( np_buff[53:57].view(np.int32)   ) # altitude [mm above ellipsoid]\n",
    "    contents.append( np_buff[57:58].view(np.uint8)   ) # number of satellites in view and used in compute\n",
    "    contents.append( np_buff[58:62].view(np.int32)   ) # ground speed [mm/s]\n",
    "    contents.append( np_buff[62:66].view(np.int32)   ) # heading of motion [deg *10^-5]\n",
    "    contents.append( np_buff[66:68].view(np.uint16)  ) # position DOP [*0.01]\n",
    "    contents.append( np_buff[68:72].view(np.uint32)  ) # horizontal accuracy estimate [mm]\n",
    "    contents.append( np_buff[72:76].view(np.uint32)  ) # vertical accuracy estimate [mm]\n",
    "    contents.append( np_buff[76:80].view(np.uint32)  ) # heading accuracy estimate (both motion and vehicle) [deg *10^-5]\n",
    "    \n",
    "    return contents\n",
    "\n"
   ]
  },
  {
   "cell_type": "code",
   "execution_count": null,
   "metadata": {},
   "outputs": [],
   "source": []
  },
  {
   "cell_type": "code",
   "execution_count": null,
   "metadata": {},
   "outputs": [],
   "source": []
  },
  {
   "cell_type": "code",
   "execution_count": null,
   "metadata": {},
   "outputs": [],
   "source": [
    "#export\n",
    "\n",
    "# Define dictionary column name and data type\n",
    "fields_dict = {'rtc_now': 'datetime', \n",
    "             'rtc_temp': 'float', \n",
    "             'air_temp': 'float', \n",
    "             'air_pressure': 'float', \n",
    "             'air_humidity': 'float', \n",
    "             'imu_cal': 'int',\n",
    "             'imu_temp': 'float', \n",
    "             'euler_x': 'float', \n",
    "             'euler_y': 'float', \n",
    "             'euler_z': 'float', \n",
    "             \n",
    "             'quat0': 'float',\n",
    "             'quat1': 'float',\n",
    "             'quat2': 'float',\n",
    "             'quat3': 'float',\n",
    "             \n",
    "             'mag_x': 'float',\n",
    "             'mag_y': 'float', \n",
    "             'mag_z': 'float', \n",
    "             'gps_now': 'datetime', \n",
    "             'latitude': 'float', \n",
    "             'longitude': 'float', \n",
    "             'altitude': 'float', \n",
    "             'numSV': 'int', \n",
    "             'velN': 'float', \n",
    "             'velE': 'float', \n",
    "             'gSpeed': 'float', \n",
    "             'heading': 'float', \n",
    "             'velAcc': 'float', \n",
    "             'pDOP': 'float', \n",
    "             'hAcc': 'float', \n",
    "             'vAcc': 'float', \n",
    "             'headAcc': 'float', \n",
    "             'magDec': 'float', \n",
    "             'magAcc': 'float'}"
   ]
  },
  {
   "cell_type": "code",
   "execution_count": null,
   "metadata": {},
   "outputs": [],
   "source": [
    "#export\n",
    "\n",
    "class SensorStream():\n",
    "\n",
    "    def __init__(self, baudrate=921_600, port=\"/dev/ttyTHS0\", start_pin=27, save_dir=\"/xavier_ssd/data/\"):\n",
    "\n",
    "        self.ser = serial.Serial(port=port,\n",
    "                                baudrate=baudrate,\n",
    "                                bytesize=serial.EIGHTBITS,\n",
    "                                parity=serial.PARITY_NONE,\n",
    "                                stopbits=serial.STOPBITS_ONE,\n",
    "                                )\n",
    "\n",
    "        # Initialise serial port and wait\n",
    "        self.ser.flushInput()\n",
    "\n",
    "        # Instantiate for storing data\n",
    "        self.data = []\n",
    "        self.data_df = None\n",
    "\n",
    "        self.start_pin = start_pin\n",
    "\n",
    "        #GPIO.setwarnings(False)\n",
    "        GPIO.setmode(GPIO.BCM) # BCM pin-numbering scheme from Raspberry Pi\n",
    "        GPIO.setup(start_pin, GPIO.IN)\n",
    "        self.dir = Path(f\"{save_dir}{datetime.date.today()}\")\n",
    "        self.dir.mkdir(parents=False, exist_ok=True)\n",
    "        self.fname = (f\"{self.dir}/{datetime.datetime.now()}.pkl\")\n",
    "        \n",
    "    def save(self):\n",
    "        self.fname = (f\"{self.dir}/{datetime.datetime.now()}.pkl\")\n",
    "        self.to_df(fields_dict,dropna_subset = ['rtc_now'],save_file=self.fname)\n",
    "        print(f\"Saved {len(self.data)} lines to {self.fname}\")\n",
    "        self.data = []\n",
    "        print(self.data_df) #print(self.data_df.head(1)); print(self.data_df.tail(1))\n",
    "        #self.ser.flushInput()\n",
    "        \n",
    "\n",
    "    def run(self):\n",
    "        print(\"starting sensor datapacket reads\")\n",
    "        while True:\n",
    "            try:\n",
    "                if GPIO.input(self.start_pin) == True:\n",
    "                    if len(self.data) == 0:\n",
    "                        print(\"packets are coming\")\n",
    "                    self.record()\n",
    "                    \n",
    "                    if len(self.data) > 2**14: # about 14k\n",
    "                        self.save()\n",
    "                    \n",
    "                else:\n",
    "                    if len(self.data) > 0:\n",
    "                        self.save()\n",
    "                \n",
    "                time.sleep(1)\n",
    "\n",
    "            except KeyboardInterrupt:\n",
    "                GPIO.cleanup()\n",
    "                print(\"Exiting sensor read.\")\n",
    "                break\n",
    "            except Exception as e:\n",
    "                print(e)\n",
    "                print(\"Attempting to start again!\")\n",
    "                self.ser.flushInput()\n",
    "                self.data = []\n",
    "\n",
    "\n",
    "\n",
    "    def record(self,max_timeout=2):\n",
    "\n",
    "        start_time = time.time()\n",
    "\n",
    "        # Check if line is ready\n",
    "        while self.ser.inWaiting() > 0:\n",
    "\n",
    "            # Read line from serial\n",
    "            line_data = self.ser.readline()\n",
    "\n",
    "            # Format data\n",
    "            line_data = str(line_data).replace(\"b\", \"\").replace(\"'\", \"\").split(\",\")[:-1]\n",
    "\n",
    "            # Append line to list\n",
    "            self.data.append(line_data)\n",
    "\n",
    "            if time.time()-start_time > max_timeout:\n",
    "                print(\"timeout\")\n",
    "                self.ser.flushInput()\n",
    "                break\n",
    "\n",
    "\n",
    "    def to_df(self, fields_dict, dropna_subset = None, save_file = None):\n",
    "\n",
    "        # Convert to dataframe and drop the first row of unclean data\n",
    "        self.data_df = pd.DataFrame(self.data[1:], columns = fields_dict.keys())\n",
    "        if dropna_subset:\n",
    "            self.data_df.dropna(subset = dropna_subset, inplace=True)\n",
    "\n",
    "        # Iterate through each column and update data type\n",
    "        for field_name in fields_dict.keys():\n",
    "\n",
    "            # Convert to float\n",
    "            if fields_dict[field_name] == 'float' or fields_dict[field_name] == 'int':\n",
    "                self.data_df[field_name] =  pd.to_numeric(self.data_df[field_name], errors='coerce')\n",
    "\n",
    "            # Convert to datetime\n",
    "            elif fields_dict[field_name] == 'datetime':\n",
    "                self.data_df[field_name] =  pd.to_datetime(self.data_df[field_name], errors='coerce')\n",
    "\n",
    "        if save_file is not None:\n",
    "            with open(save_file,\"wb\") as handle:\n",
    "                pickle.dump(self.data_df,handle,protocol=pickle.HIGHEST_PROTOCOL)\n",
    "\n",
    "        # Return formatted data as dataframe\n",
    "        return self.data_df"
   ]
  },
  {
   "cell_type": "code",
   "execution_count": null,
   "metadata": {},
   "outputs": [],
   "source": [
    "#hardware\n",
    "\n",
    "peripherals = SensorStream(baudrate=921_600,port=\"/dev/ttyTHS0\")\n",
    "peripherals.run() # start on switch on, pause on switch off, KeyboardInterrupt to stop\n",
    "\n"
   ]
  },
  {
   "cell_type": "code",
   "execution_count": null,
   "metadata": {},
   "outputs": [],
   "source": [
    "#hardware\n",
    "\n",
    "peripherals = SensorStream(baudrate=921_600,port=\"/dev/ttyTHS0\")\n",
    "peripherals.record(max_timeout=2)\n",
    "print(peripherals.data)"
   ]
  },
  {
   "cell_type": "code",
   "execution_count": null,
   "metadata": {},
   "outputs": [
    {
     "name": "stdout",
     "output_type": "stream",
     "text": [
      "test\n"
     ]
    },
    {
     "ename": "ValueError",
     "evalue": "Test flag entered",
     "output_type": "error",
     "traceback": [
      "\u001b[0;31m---------------------------------------------------------------------------\u001b[0m",
      "\u001b[0;31mValueError\u001b[0m                                Traceback (most recent call last)",
      "\u001b[0;32m<ipython-input-306-56153777548f>\u001b[0m in \u001b[0;36m<module>\u001b[0;34m\u001b[0m\n\u001b[1;32m      1\u001b[0m \u001b[0;31m#test\u001b[0m\u001b[0;34m\u001b[0m\u001b[0;34m\u001b[0m\u001b[0;34m\u001b[0m\u001b[0m\n\u001b[1;32m      2\u001b[0m \u001b[0mprint\u001b[0m\u001b[0;34m(\u001b[0m\u001b[0;34m\"test\"\u001b[0m\u001b[0;34m)\u001b[0m\u001b[0;34m\u001b[0m\u001b[0;34m\u001b[0m\u001b[0m\n\u001b[0;32m----> 3\u001b[0;31m \u001b[0;32mraise\u001b[0m \u001b[0mValueError\u001b[0m\u001b[0;34m(\u001b[0m\u001b[0;34m\"Test flag entered\"\u001b[0m\u001b[0;34m)\u001b[0m\u001b[0;34m\u001b[0m\u001b[0;34m\u001b[0m\u001b[0m\n\u001b[0m",
      "\u001b[0;31mValueError\u001b[0m: Test flag entered"
     ]
    }
   ],
   "source": [
    "#test\n",
    "print(\"test\")\n"
   ]
  },
  {
   "cell_type": "code",
   "execution_count": null,
   "metadata": {},
   "outputs": [
    {
     "name": "stdout",
     "output_type": "stream",
     "text": [
      "hardware\n"
     ]
    }
   ],
   "source": [
    "#hardware\n",
    "print(\"hardware\")\n",
    "raise ValueError(\"Hardware flag entered\")"
   ]
  },
  {
   "cell_type": "code",
   "execution_count": null,
   "metadata": {},
   "outputs": [
    {
     "name": "stdout",
     "output_type": "stream",
     "text": [
      "skip\n"
     ]
    }
   ],
   "source": [
    "#skip\n",
    "print(\"skip\")"
   ]
  },
  {
   "cell_type": "code",
   "execution_count": null,
   "metadata": {},
   "outputs": [],
   "source": []
  }
 ],
 "metadata": {
  "kernelspec": {
   "display_name": "Python 3 (ipykernel)",
   "language": "python",
   "name": "python3"
  }
 },
 "nbformat": 4,
 "nbformat_minor": 4
}
