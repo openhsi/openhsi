{
 "cells": [
  {
   "cell_type": "code",
   "execution_count": null,
   "metadata": {},
   "outputs": [],
   "source": [
    "# default_exp sensors"
   ]
  },
  {
   "cell_type": "markdown",
   "metadata": {},
   "source": [
    "# Sensors\n",
    "> reads sensor data over UART\n"
   ]
  },
  {
   "cell_type": "code",
   "execution_count": null,
   "metadata": {},
   "outputs": [],
   "source": [
    "#export\n",
    "import time\n",
    "import serial\n",
    "import numpy as np\n",
    "import pandas as pd\n",
    "\n",
    "from pathlib import Path\n",
    "#import Jetson.GPIO as GPIO\n",
    "import datetime\n",
    "import pickle"
   ]
  },
  {
   "cell_type": "code",
   "execution_count": null,
   "metadata": {},
   "outputs": [],
   "source": [
    "#export\n",
    "\n",
    "# Define dictionary column name and data type\n",
    "fields_dict = {'rtc_now': 'datetime', \n",
    "             'rtc_temp': 'float', \n",
    "             'air_temp': 'float', \n",
    "             'air_pressure': 'float', \n",
    "             'air_humidity': 'float', \n",
    "             'imu_cal': 'int',\n",
    "             'imu_temp': 'float', \n",
    "             'euler_x': 'float', \n",
    "             'euler_y': 'float', \n",
    "             'euler_z': 'float', \n",
    "             \n",
    "             'quat0': 'float',\n",
    "             'quat1': 'float',\n",
    "             'quat2': 'float',\n",
    "             'quat3': 'float',\n",
    "             \n",
    "             'mag_x': 'float',\n",
    "             'mag_y': 'float', \n",
    "             'mag_z': 'float', \n",
    "             'gps_now': 'datetime', \n",
    "             'latitude': 'float', \n",
    "             'longitude': 'float', \n",
    "             'altitude': 'float', \n",
    "             'numSV': 'int', \n",
    "             'velN': 'float', \n",
    "             'velE': 'float', \n",
    "             'gSpeed': 'float', \n",
    "             'heading': 'float', \n",
    "             'velAcc': 'float', \n",
    "             'pDOP': 'float', \n",
    "             'hAcc': 'float', \n",
    "             'vAcc': 'float', \n",
    "             'headAcc': 'float', \n",
    "             'magDec': 'float', \n",
    "             'magAcc': 'float'}"
   ]
  },
  {
   "cell_type": "code",
   "execution_count": null,
   "metadata": {},
   "outputs": [],
   "source": [
    "#export\n",
    "\n",
    "class SensorStream():\n",
    "\n",
    "    def __init__(self, baudrate=921_600, port=\"/dev/ttyTHS0\", start_pin=27, save_dir=\"/xavier_ssd/data/\"):\n",
    "\n",
    "        self.ser = serial.Serial(port=port,\n",
    "                                baudrate=baudrate,\n",
    "                                bytesize=serial.EIGHTBITS,\n",
    "                                parity=serial.PARITY_NONE,\n",
    "                                stopbits=serial.STOPBITS_ONE,\n",
    "                                )\n",
    "\n",
    "        # Initialise serial port and wait\n",
    "        self.ser.flushInput()\n",
    "\n",
    "        # Instantiate for storing data\n",
    "        self.data = []\n",
    "        self.data_df = None\n",
    "\n",
    "        self.start_pin = start_pin\n",
    "\n",
    "        #GPIO.setwarnings(False)\n",
    "        GPIO.setmode(GPIO.BCM) # BCM pin-numbering scheme from Raspberry Pi\n",
    "        GPIO.setup(start_pin, GPIO.IN)\n",
    "        self.dir = Path(f\"{save_dir}{datetime.date.today()}\")\n",
    "        self.dir.mkdir(parents=False, exist_ok=True)\n",
    "        self.fname = (f\"{self.dir}/{datetime.datetime.now()}.pkl\")\n",
    "        \n",
    "    def save(self):\n",
    "        self.fname = (f\"{self.dir}/{datetime.datetime.now()}.pkl\")\n",
    "        self.to_df(fields_dict,dropna_subset = ['rtc_now'],save_file=self.fname)\n",
    "        print(f\"Saved {len(self.data)} lines to {self.fname}\")\n",
    "        self.data = []\n",
    "        print(self.data_df) #print(self.data_df.head(1)); print(self.data_df.tail(1))\n",
    "        #self.ser.flushInput()\n",
    "        \n",
    "\n",
    "    def run(self):\n",
    "        print(\"starting sensor datapacket reads\")\n",
    "        while True:\n",
    "            try:\n",
    "                if GPIO.input(self.start_pin) == True:\n",
    "                    if len(self.data) == 0:\n",
    "                        print(\"packets are coming\")\n",
    "                    self.record()\n",
    "                    \n",
    "                    if len(self.data) > 2**14: # about 14k\n",
    "                        self.save()\n",
    "                    \n",
    "                else:\n",
    "                    if len(self.data) > 0:\n",
    "                        self.save()\n",
    "                \n",
    "                time.sleep(1)\n",
    "\n",
    "            except KeyboardInterrupt:\n",
    "                GPIO.cleanup()\n",
    "                print(\"Exiting sensor read.\")\n",
    "                break\n",
    "            except Exception as e:\n",
    "                print(e)\n",
    "                print(\"Attempting to start again!\")\n",
    "                self.ser.flushInput()\n",
    "                self.data = []\n",
    "\n",
    "\n",
    "\n",
    "    def record(self,max_timeout=2):\n",
    "\n",
    "        start_time = time.time()\n",
    "\n",
    "        # Check if line is ready\n",
    "        while self.ser.inWaiting() > 0:\n",
    "\n",
    "            # Read line from serial\n",
    "            line_data = self.ser.readline()\n",
    "\n",
    "            # Format data\n",
    "            line_data = str(line_data).replace(\"b\", \"\").replace(\"'\", \"\").split(\",\")[:-1]\n",
    "\n",
    "            # Append line to list\n",
    "            self.data.append(line_data)\n",
    "\n",
    "            if time.time()-start_time > max_timeout:\n",
    "                print(\"timeout\")\n",
    "                self.ser.flushInput()\n",
    "                break\n",
    "\n",
    "\n",
    "    def to_df(self, fields_dict, dropna_subset = None, save_file = None):\n",
    "\n",
    "        # Convert to dataframe and drop the first row of unclean data\n",
    "        self.data_df = pd.DataFrame(self.data[1:], columns = fields_dict.keys())\n",
    "        if dropna_subset:\n",
    "            self.data_df.dropna(subset = dropna_subset, inplace=True)\n",
    "\n",
    "        # Iterate through each column and update data type\n",
    "        for field_name in fields_dict.keys():\n",
    "\n",
    "            # Convert to float\n",
    "            if fields_dict[field_name] == 'float' or fields_dict[field_name] == 'int':\n",
    "                self.data_df[field_name] =  pd.to_numeric(self.data_df[field_name], errors='coerce')\n",
    "\n",
    "            # Convert to datetime\n",
    "            elif fields_dict[field_name] == 'datetime':\n",
    "                self.data_df[field_name] =  pd.to_datetime(self.data_df[field_name], errors='coerce')\n",
    "\n",
    "        if save_file is not None:\n",
    "            with open(save_file,\"wb\") as handle:\n",
    "                pickle.dump(self.data_df,handle,protocol=pickle.HIGHEST_PROTOCOL)\n",
    "\n",
    "        # Return formatted data as dataframe\n",
    "        return self.data_df"
   ]
  },
  {
   "cell_type": "code",
   "execution_count": null,
   "metadata": {},
   "outputs": [],
   "source": [
    "#hardware\n",
    "\n",
    "peripherals = SensorStream(baudrate=921_600,port=\"/dev/ttyTHS0\")\n",
    "peripherals.run() # start on switch on, pause on switch off, KeyboardInterrupt to stop\n",
    "\n"
   ]
  },
  {
   "cell_type": "code",
   "execution_count": null,
   "metadata": {},
   "outputs": [],
   "source": [
    "#hardware\n",
    "\n",
    "peripherals = SensorStream(baudrate=921_600,port=\"/dev/ttyTHS0\")\n",
    "peripherals.record(max_timeout=2)\n",
    "print(peripherals.data)"
   ]
  },
  {
   "cell_type": "code",
   "execution_count": null,
   "metadata": {},
   "outputs": [
    {
     "name": "stdout",
     "output_type": "stream",
     "text": [
      "test\n"
     ]
    },
    {
     "ename": "ValueError",
     "evalue": "Test flag entered",
     "output_type": "error",
     "traceback": [
      "\u001b[0;31m---------------------------------------------------------------------------\u001b[0m",
      "\u001b[0;31mValueError\u001b[0m                                Traceback (most recent call last)",
      "\u001b[0;32m<ipython-input-306-56153777548f>\u001b[0m in \u001b[0;36m<module>\u001b[0;34m\u001b[0m\n\u001b[1;32m      1\u001b[0m \u001b[0;31m#test\u001b[0m\u001b[0;34m\u001b[0m\u001b[0;34m\u001b[0m\u001b[0;34m\u001b[0m\u001b[0m\n\u001b[1;32m      2\u001b[0m \u001b[0mprint\u001b[0m\u001b[0;34m(\u001b[0m\u001b[0;34m\"test\"\u001b[0m\u001b[0;34m)\u001b[0m\u001b[0;34m\u001b[0m\u001b[0;34m\u001b[0m\u001b[0m\n\u001b[0;32m----> 3\u001b[0;31m \u001b[0;32mraise\u001b[0m \u001b[0mValueError\u001b[0m\u001b[0;34m(\u001b[0m\u001b[0;34m\"Test flag entered\"\u001b[0m\u001b[0;34m)\u001b[0m\u001b[0;34m\u001b[0m\u001b[0;34m\u001b[0m\u001b[0m\n\u001b[0m",
      "\u001b[0;31mValueError\u001b[0m: Test flag entered"
     ]
    }
   ],
   "source": [
    "#test\n",
    "print(\"test\")\n"
   ]
  },
  {
   "cell_type": "code",
   "execution_count": null,
   "metadata": {},
   "outputs": [
    {
     "name": "stdout",
     "output_type": "stream",
     "text": [
      "hardware\n"
     ]
    }
   ],
   "source": [
    "#hardware\n",
    "print(\"hardware\")\n",
    "raise ValueError(\"Hardware flag entered\")"
   ]
  },
  {
   "cell_type": "code",
   "execution_count": null,
   "metadata": {},
   "outputs": [
    {
     "name": "stdout",
     "output_type": "stream",
     "text": [
      "skip\n"
     ]
    }
   ],
   "source": [
    "#skip\n",
    "print(\"skip\")"
   ]
  },
  {
   "cell_type": "code",
   "execution_count": null,
   "metadata": {},
   "outputs": [],
   "source": []
  }
 ],
 "metadata": {
  "kernelspec": {
   "display_name": "Python 3.8.3 64-bit ('3.8.3': pyenv)",
   "language": "python",
   "name": "python38364bit383pyenv4fc1801d817447c6b9c76f7bacd532a1"
  }
 },
 "nbformat": 4,
 "nbformat_minor": 4
}
